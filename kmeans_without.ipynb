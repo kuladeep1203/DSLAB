{
 "cells": [
  {
   "cell_type": "code",
   "execution_count": 2,
   "id": "2d02c445",
   "metadata": {},
   "outputs": [
    {
     "ename": "NameError",
     "evalue": "name 'X' is not defined",
     "output_type": "error",
     "traceback": [
      "\u001b[1;31m---------------------------------------------------------------------------\u001b[0m",
      "\u001b[1;31mNameError\u001b[0m                                 Traceback (most recent call last)",
      "Input \u001b[1;32mIn [2]\u001b[0m, in \u001b[0;36m<cell line: 4>\u001b[1;34m()\u001b[0m\n\u001b[0;32m      1\u001b[0m \u001b[38;5;28;01mimport\u001b[39;00m \u001b[38;5;21;01mnumpy\u001b[39;00m \u001b[38;5;28;01mas\u001b[39;00m \u001b[38;5;21;01mnp\u001b[39;00m\n\u001b[0;32m      3\u001b[0m np\u001b[38;5;241m.\u001b[39mrandom\u001b[38;5;241m.\u001b[39mseed(\u001b[38;5;241m0\u001b[39m)\n\u001b[1;32m----> 4\u001b[0m data \u001b[38;5;241m=\u001b[39m \u001b[43mX\u001b[49m\u001b[38;5;241m.\u001b[39mvalues\n\u001b[0;32m      5\u001b[0m count\u001b[38;5;241m=\u001b[39m\u001b[38;5;241m0\u001b[39m\n\u001b[0;32m      6\u001b[0m K \u001b[38;5;241m=\u001b[39m \u001b[38;5;241m2\u001b[39m\n",
      "\u001b[1;31mNameError\u001b[0m: name 'X' is not defined"
     ]
    }
   ],
   "source": [
    "import numpy as np\n",
    "\n",
    "np.random.seed(0)\n",
    "data = X.values\n",
    "count=0\n",
    "K = 2\n",
    "\n",
    "max_iters = 100\n",
    "\n",
    "centroids = data[np.random.choice(data.shape[0], K, replace=False)]\n",
    "\n",
    "for iter in range(max_iters):\n",
    "    distances = np.sqrt(((data[:, np.newaxis] - centroids) ** 2).sum(axis=2))\n",
    "    labels = np.argmin(distances, axis=1)\n",
    "    \n",
    "    new_centroids = np.array([data[labels == k].mean(axis=0) for k in range(K)])\n",
    "    \n",
    "    if np.all(centroids == new_centroids):\n",
    "        break\n",
    "    \n",
    "    centroids = new_centroids\n",
    "\n",
    "\n",
    "\n",
    "for i in range(y.shape[0]):\n",
    "    if y[i] == labels[i]:\n",
    "        count += 1\n",
    "\n",
    "print('Accuracy Percentage (K-Means): ', (count/y.shape[0])*100)"
   ]
  },
  {
   "cell_type": "code",
   "execution_count": null,
   "id": "af497988",
   "metadata": {},
   "outputs": [],
   "source": []
  }
 ],
 "metadata": {
  "kernelspec": {
   "display_name": "Python 3 (ipykernel)",
   "language": "python",
   "name": "python3"
  },
  "language_info": {
   "codemirror_mode": {
    "name": "ipython",
    "version": 3
   },
   "file_extension": ".py",
   "mimetype": "text/x-python",
   "name": "python",
   "nbconvert_exporter": "python",
   "pygments_lexer": "ipython3",
   "version": "3.9.12"
  }
 },
 "nbformat": 4,
 "nbformat_minor": 5
}
