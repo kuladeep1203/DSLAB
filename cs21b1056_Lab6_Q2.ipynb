{
 "cells": [
  {
   "cell_type": "code",
   "execution_count": null,
   "id": "5c4f5e07",
   "metadata": {},
   "outputs": [],
   "source": [
    "import pandas as pd\n",
    "data = {\n",
    "    \"Name\": [\"Ram\",\"Sam\",\"Prabhu\"],\n",
    "    \"Adhaar Number\": [959389389173 ,959389389179 , 959389389159],\n",
    "    \"Contact_No\": [9840787333, 9840787343, 9840787353],\n",
    "    \"DOB\": [\"12-2-1990\", \"12-2-2000\", \"12-2-2010\"],\n",
    "    \"Address\": [\"No 23,Kandigai,Chennai 127\",\"No 73,Melakottaiyu,Chennai 127\",\"No 43 Anna Nagar,Chennai 102\"]\n",
    "}\n",
    "df = pd.DataFrame(data)\n",
    "df.to_csv(\"Aadhar_DB.csv\",index=False)\n",
    "sbi_file = \"SBIAccountHolder.csv\"\n",
    "adhaar_file = \"Aadhar_DB.csv\"\n",
    "\n",
    "df1 = pd.read_csv(sbi_file)\n",
    "df2 = pd.read_csv(adhaar_file)\n",
    "\n",
    "df3 = pd.merge(df1, df2, on='Name')\n",
    "\n",
    "df3.to_csv(\"merged_file.csv\", index=False)\n",
    "df4=pd.read_csv(\"merged_file.csv\")\n",
    "df4.drop(columns=['Adhaar_No'], inplace=True)\n",
    "df4.to_csv(\"merged_file.csv\",index=False)\n"
   ]
  }
 ],
 "metadata": {
  "kernelspec": {
   "display_name": "Python 3 (ipykernel)",
   "language": "python",
   "name": "python3"
  },
  "language_info": {
   "codemirror_mode": {
    "name": "ipython",
    "version": 3
   },
   "file_extension": ".py",
   "mimetype": "text/x-python",
   "name": "python",
   "nbconvert_exporter": "python",
   "pygments_lexer": "ipython3",
   "version": "3.9.12"
  }
 },
 "nbformat": 4,
 "nbformat_minor": 5
}
