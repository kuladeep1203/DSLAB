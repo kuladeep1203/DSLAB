{
 "cells": [
  {
   "cell_type": "code",
   "execution_count": 3,
   "id": "bd884574",
   "metadata": {},
   "outputs": [
    {
     "name": "stdout",
     "output_type": "stream",
     "text": [
      "enter the ram's age:5\n",
      "enter the shyam's age:34\n",
      "enter the ajay's age:2\n",
      "Ajay is the youngest of all\n"
     ]
    }
   ],
   "source": [
    "def minage(a,b,c):\n",
    "    if(a<b and a<c):\n",
    "        young=1\n",
    "    elif(b<a and b<c):\n",
    "        young=2\n",
    "    elif(c<a and c<b):\n",
    "        young=3\n",
    "    \n",
    "    return young\n",
    "\n",
    "Ram=int(input(\"enter the ram's age:\"))\n",
    "Shyam=int(input(\"enter the shyam's age:\"))\n",
    "Ajay=int(input(\"enter the ajay's age:\"))\n",
    "result=minage(Ram,Shyam,Ajay)\n",
    "if(result==1):\n",
    "    print(\"Ram is the youngest of all\")\n",
    "elif(result==2):\n",
    "    print(\"Shyam is the youngest of all\")\n",
    "elif(result==3):\n",
    "    print(\"Ajay is the youngest of all\")\n",
    "    \n",
    "    \n",
    "    \n",
    "        "
   ]
  },
  {
   "cell_type": "code",
   "execution_count": 13,
   "id": "59c80895",
   "metadata": {},
   "outputs": [
    {
     "name": "stdout",
     "output_type": "stream",
     "text": [
      "enter the percentage:78.5\n",
      "your grade is: C\n"
     ]
    }
   ],
   "source": [
    "percentage=float(input(\"enter the percentage:\"))\n",
    "if(percentage>=90 and percentage <=100):\n",
    "    grade='A'\n",
    "elif(percentage>=80 and percentage<=89):\n",
    "    grade='B'\n",
    "elif(percentage>=70 and percentage<=79):\n",
    "    grade='C'\n",
    "elif(percentage>=60 and percentage<=69):\n",
    "    grade='D'\n",
    "elif(percentage>=0 and percentage<=59):\n",
    "    grade='F'\n",
    "else:\n",
    "    print(\"Invalid input\")\n",
    "    \n",
    "print(\"your grade is:\",grade)\n",
    "    "
   ]
  },
  {
   "cell_type": "code",
   "execution_count": 18,
   "id": "52c42ffd",
   "metadata": {},
   "outputs": [
    {
     "name": "stdout",
     "output_type": "stream",
     "text": [
      "enter the number123\n",
      "reversed number= 321\n",
      "original and reversed are not same\n"
     ]
    }
   ],
   "source": [
    "n=int(input(\"enter the number\"))\n",
    "n3=n\n",
    "n2=0\n",
    "while(n!=0):\n",
    "    digit=n%10\n",
    "    n2=n2*10+digit\n",
    "    n=n//10\n",
    "print(\"reversed number=\",n2)\n",
    "if(n2==n3):\n",
    "    print(\"original and reversed are same\")\n",
    "else:\n",
    "    print(\"original and reversed are not same\")\n",
    "    \n",
    "    \n",
    "    \n",
    "    \n"
   ]
  },
  {
   "cell_type": "code",
   "execution_count": 19,
   "id": "867ba340",
   "metadata": {},
   "outputs": [
    {
     "name": "stdout",
     "output_type": "stream",
     "text": [
      "enter the hardness of steel55.6\n",
      "enter the carbon content in it0.8\n",
      "enter the tensile strength5678\n",
      "Grade is 7\n"
     ]
    }
   ],
   "source": [
    "Hardness=float(input(\"enter the hardness of steel:\"))\n",
    "Carbon_content=float(input(\"enter the carbon content in it:\"))\n",
    "Tensile_strength=float(input(\"enter the tensile strength:\"))\n",
    "if(Hardness>50 and Carbon_content<0.7 and Tensile_strength>5600):\n",
    "    print(\"Grade is 10\")\n",
    "elif(Hardness>50 and Carbon_content<0.7):\n",
    "    print(\"Grade is 9\")\n",
    "elif(Carbon_content<0.7 and Tensile_strength>5600):\n",
    "    print(\"Grade is 8\")\n",
    "elif(Hardness>50 and Tensile_strength>5600):\n",
    "    print(\"Grade is 7\")\n",
    "elif(Carbon_content<0.7 or Tensile_strength>5600 or Hardness>50):\n",
    "    print(\"Grade is 6\")\n",
    "else:\n",
    "    print(\"Grade is 5\")\n",
    "\n",
    "    "
   ]
  },
  {
   "cell_type": "code",
   "execution_count": 30,
   "id": "139a0a4e",
   "metadata": {},
   "outputs": [
    {
     "name": "stdout",
     "output_type": "stream",
     "text": [
      "enter 3 sides of triangle:3 4 5\n",
      "right angled triangle\n"
     ]
    }
   ],
   "source": [
    "a,b,c=map(float,input(\"enter 3 sides of triangle:\").split())\n",
    "if(a+b>c and b+c>a and c+a>b):\n",
    "    if(a==b and  b==c and c==a):\n",
    "        print(\"equilateral triangle\")\n",
    "    elif((a==b or b==c or c==a)  and (a**2==b**2+c**2 or b**2==a**2+c**2 or c**2==a**2+b**2)):\n",
    "        print(\"isoceless and right angled triangle\")\n",
    "    elif(a==b or b==c or c==a):\n",
    "        print(\"isoceless triangle\")\n",
    "    elif(a**2==b**2+c**2 or b**2==a**2+c**2 or c**2==a**2+b**2):\n",
    "        print(\"right angled triangle\")\n",
    "else:\n",
    "    print(\"invalid triangle measurements\")\n"
   ]
  },
  {
   "cell_type": "code",
   "execution_count": 33,
   "id": "ad8f4d6b",
   "metadata": {},
   "outputs": [
    {
     "name": "stdout",
     "output_type": "stream",
     "text": [
      "enter the amount bob has:4\n",
      "enter the price of chocolate:2\n",
      "enter the count of wrappers for one choclate to get it for free:1\n",
      "total no.of chocolates 4\n"
     ]
    }
   ],
   "source": [
    "N=int(input(\"enter the amount bob has:\"))\n",
    "C=int(input(\"enter the price of chocolate:\"))\n",
    "M=int(input(\"enter the count of wrappers for one choclate to get it for free:\"))\n",
    "sum=0\n",
    "sum=N//C\n",
    "sum=sum//M+sum\n",
    "print(\"total no.of chocolates\",sum)"
   ]
  },
  {
   "cell_type": "code",
   "execution_count": 36,
   "id": "4975f528",
   "metadata": {},
   "outputs": [
    {
     "name": "stdout",
     "output_type": "stream",
     "text": [
      "225300\n"
     ]
    }
   ],
   "source": [
    "costofonecomputer=10000\n",
    "noofcomputers=20\n",
    "nooftables=5\n",
    "costofonetable=2500\n",
    "noofchairs=25\n",
    "costofonechair=500\n",
    "noofhoursworked=10\n",
    "wagesperhour=30\n",
    "cost_of_computer=costofonecomputer*noofcomputers\n",
    "cost_of_furniture=nooftables*costofonetable+noofchairs*costofonechair\n",
    "labour_cost=noofhoursworked*wagesperhour\n",
    "total_cost=cost_of_computer+cost_of_furniture+labour_cost\n",
    "print(total_cost)"
   ]
  },
  {
   "cell_type": "code",
   "execution_count": 42,
   "id": "a93a98e7",
   "metadata": {},
   "outputs": [
    {
     "name": "stdout",
     "output_type": "stream",
     "text": [
      "enter the year:400\n",
      "leap year\n"
     ]
    }
   ],
   "source": [
    "year=int(input(\"enter the year:\"))\n",
    "if(year%4==0):\n",
    "    if(year%400==0):\n",
    "        print(\"leap year\")\n",
    "    else:\n",
    "        print(\"leap year\")\n",
    "else:\n",
    "    print(\"not a leap year\")"
   ]
  },
  {
   "cell_type": "code",
   "execution_count": null,
   "id": "22842364",
   "metadata": {},
   "outputs": [],
   "source": []
  }
 ],
 "metadata": {
  "kernelspec": {
   "display_name": "Python 3 (ipykernel)",
   "language": "python",
   "name": "python3"
  },
  "language_info": {
   "codemirror_mode": {
    "name": "ipython",
    "version": 3
   },
   "file_extension": ".py",
   "mimetype": "text/x-python",
   "name": "python",
   "nbconvert_exporter": "python",
   "pygments_lexer": "ipython3",
   "version": "3.9.12"
  }
 },
 "nbformat": 4,
 "nbformat_minor": 5
}
