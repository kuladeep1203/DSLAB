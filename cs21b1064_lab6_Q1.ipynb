{
 "cells": [
  {
   "cell_type": "code",
   "execution_count": 72,
   "id": "bbc815ab",
   "metadata": {},
   "outputs": [],
   "source": [
    "import pandas as pd\n",
    "\n",
    "data = {\n",
    "    \"Name\": [\"Ram\",\"Sam\",\"Prabhu\"],\n",
    "    \"Account Number\": [9893893891 ,9893893898 , 9893893871],\n",
    "    \"Account Type\": [\"SB\", \"CA\", \"SB\"],\n",
    "    \"Adhaar_No\": [959389389173, 959389389179, 959389389159],\n",
    "    \"Balance\": [8989839, 7690990, 989330]\n",
    "}"
   ]
  },
  {
   "cell_type": "code",
   "execution_count": 73,
   "id": "59d8fbf6",
   "metadata": {},
   "outputs": [],
   "source": [
    "df = pd.DataFrame(data)\n",
    "df.to_csv(\"SBIAccountHolder.csv\",index=False)\n",
    "def append_record():\n",
    "    df = pd.read_csv(\"SBIAccountHolder.csv\")\n",
    "    name = input(\"Enter the name of the account holder: \")\n",
    "    account_number = int(input(\"Enter the account number: \"))\n",
    "    if(df[df[\"Account Number\"]==account_number].empty==False):\n",
    "        print(\"Account number already exists\")\n",
    "        return\n",
    "    \n",
    "    account_type = input(\"Enter the account type SB OR CA : \")\n",
    "    adhaar_number = int(input(\"Enter the adhaar number: \"))\n",
    "    balance = int(input(\"Enter the balance: \"))\n",
    "    \n",
    "    df.loc[len(df.index)] = [name, account_number, account_type, adhaar_number, balance]\n",
    "    df.to_csv(\"SBIAccountHolder.csv\",index=False)\n",
    "    print(\"Record appended successfully\")\n",
    "    \n"
   ]
  },
  {
   "cell_type": "code",
   "execution_count": 74,
   "id": "9d1bef51",
   "metadata": {},
   "outputs": [],
   "source": [
    "def delete_record():\n",
    "    account_number = int(input(\"Enter the account number to delete: \"))\n",
    "    df = pd.read_csv(\"SBIAccountHolder.csv\")\n",
    "    if(df.empty):\n",
    "        print(\"No records to delete\")\n",
    "    elif(df[df[\"Account Number\"]==account_number].empty):\n",
    "        print(\"Record not found\")\n",
    "    else:\n",
    "        df = df[df[\"Account Number\"]!=account_number]\n",
    "        df.to_csv(\"SBIAccountHolder.csv\",index=False)\n",
    "        print(\"Record deleted successfully\")\n",
    "    \n"
   ]
  },
  {
   "cell_type": "code",
   "execution_count": 75,
   "id": "739da4fe",
   "metadata": {},
   "outputs": [],
   "source": [
    "def credit():\n",
    "    account_number = int(input(\"Enter the account number to credit: \"))\n",
    "    amount = int(input(\"Enter the amount to credit: \"))\n",
    "    df = pd.read_csv(\"SBIAccountHolder.csv\")\n",
    "    if(df.empty):\n",
    "        print(\"No records to credit\")\n",
    "    elif(df[df[\"Account Number\"]==account_number].empty):\n",
    "        print(\"Record not found\")\n",
    "    else:\n",
    "        df.loc[df[\"Account Number\"]==account_number,\"Balance\"] += amount\n",
    "        df.to_csv(\"SBIAccountHolder.csv\",index=False)\n",
    "        print(\"Amount credited successfully\")\n",
    "    \n"
   ]
  },
  {
   "cell_type": "code",
   "execution_count": 76,
   "id": "2c47b4ee",
   "metadata": {},
   "outputs": [],
   "source": [
    "def debit():\n",
    "    account_number = int(input(\"Enter the account number to debit: \"))\n",
    "    amount = int(input(\"Enter the amount to debit: \"))\n",
    "    df = pd.read_csv(\"SBIAccountHolder.csv\")\n",
    "    if(df.empty):\n",
    "        print(\"No records to debit\")\n",
    "    elif(df[df[\"Account Number\"]==account_number].empty):\n",
    "        print(\"Record not found\")\n",
    "    elif(df[df[\"Account Number\"]==account_number][\"Balance\"].values[0]-amount<0 and df[df[\"Account Number\"]==account_number][\"Account Type\"].values[0]==\"SB\"):\n",
    "            print(\"Insufficient balance\")\n",
    "    else:\n",
    "        df.loc[df[\"Account Number\"]==account_number,\"Balance\"] -= amount\n",
    "        df.to_csv(\"SBIAccountHolder.csv\",index=False)\n",
    "        print(\"Amount debited successfully\")\n",
    "\n"
   ]
  },
  {
   "cell_type": "code",
   "execution_count": 77,
   "id": "bdcc4029",
   "metadata": {},
   "outputs": [],
   "source": [
    "def print_record():\n",
    "    account_number = int(input(\"Enter the account number to print: \"))\n",
    "    df = pd.read_csv(\"SBIAccountHolder.csv\")\n",
    "    if(df.empty):\n",
    "        print(\"No records to print\")\n",
    "    \n",
    "    elif(df[df[\"Account Number\"]==account_number].empty):\n",
    "        print(\"Record not found\")\n",
    "    else:\n",
    "        \n",
    "        print(df[df[\"Account Number\"]==account_number])\n",
    "        print(\"Record printed successfully\")\n",
    "    \n",
    "    \n"
   ]
  },
  {
   "cell_type": "code",
   "execution_count": null,
   "id": "47df2e6b",
   "metadata": {},
   "outputs": [
    {
     "name": "stdout",
     "output_type": "stream",
     "text": [
      "1. Append Record\n",
      "2. Delete Record\n",
      "3. Credit\n",
      "4. Debit\n",
      "5. Print Record\n",
      "6. Exit\n",
      "Enter your option: 5\n",
      "Enter the account number to print: 123\n",
      "Record not found\n",
      "1. Append Record\n",
      "2. Delete Record\n",
      "3. Credit\n",
      "4. Debit\n",
      "5. Print Record\n",
      "6. Exit\n"
     ]
    }
   ],
   "source": [
    "option=0\n",
    "while(option!=6):\n",
    "    print(\"1. Append Record\")\n",
    "    print(\"2. Delete Record\")\n",
    "    print(\"3. Credit\")\n",
    "    print(\"4. Debit\")\n",
    "    print(\"5. Print Record\")\n",
    "    print(\"6. Exit\")\n",
    "    option = int(input(\"Enter your option: \"))\n",
    "    if(option==1):\n",
    "        append_record()\n",
    "    elif(option==2):\n",
    "        delete_record()\n",
    "    elif(option==3):\n",
    "        credit()\n",
    "    elif(option==4):\n",
    "        debit()\n",
    "    elif(option==5):\n",
    "        print_record()\n",
    "    elif(option==6):\n",
    "        print(\"exited successfully\")\n",
    "    else:\n",
    "        print(\"Invalid option\")"
   ]
  },
  {
   "cell_type": "code",
   "execution_count": 15,
   "id": "4aa43cf6",
   "metadata": {},
   "outputs": [],
   "source": [
    "\n"
   ]
  },
  {
   "cell_type": "code",
   "execution_count": null,
   "id": "e567901d",
   "metadata": {},
   "outputs": [],
   "source": []
  }
 ],
 "metadata": {
  "kernelspec": {
   "display_name": "Python 3 (ipykernel)",
   "language": "python",
   "name": "python3"
  },
  "language_info": {
   "codemirror_mode": {
    "name": "ipython",
    "version": 3
   },
   "file_extension": ".py",
   "mimetype": "text/x-python",
   "name": "python",
   "nbconvert_exporter": "python",
   "pygments_lexer": "ipython3",
   "version": "3.9.12"
  }
 },
 "nbformat": 4,
 "nbformat_minor": 5
}
