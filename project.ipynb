{
 "cells": [
  {
   "cell_type": "code",
   "execution_count": 1,
   "metadata": {},
   "outputs": [],
   "source": [
    "import pandas as pd\n",
    "import numpy as np\n",
    "import matplotlib.pyplot as plt\n",
    "import seaborn as sns\n"
   ]
  },
  {
   "cell_type": "code",
   "execution_count": 2,
   "metadata": {},
   "outputs": [],
   "source": [
    "data=pd.read_csv('Dataset_Final4.csv')"
   ]
  },
  {
   "cell_type": "markdown",
   "metadata": {},
   "source": [
    "## Data Discretization"
   ]
  },
  {
   "cell_type": "code",
   "execution_count": 3,
   "metadata": {},
   "outputs": [],
   "source": [
    "bins = [0, 5, 6, 7, 8, 9, 10]\n",
    "labels = [5, 6, 7, 8, 9, 10]\n",
    "data['CGPA'] = pd.cut(data['CGPA'], bins=bins, labels=labels)\n",
    "data['CGPA'] = data['CGPA'].astype(float)\n"
   ]
  },
  {
   "cell_type": "code",
   "execution_count": 4,
   "metadata": {},
   "outputs": [
    {
     "data": {
      "text/html": [
       "<div>\n",
       "<style scoped>\n",
       "    .dataframe tbody tr th:only-of-type {\n",
       "        vertical-align: middle;\n",
       "    }\n",
       "\n",
       "    .dataframe tbody tr th {\n",
       "        vertical-align: top;\n",
       "    }\n",
       "\n",
       "    .dataframe thead th {\n",
       "        text-align: right;\n",
       "    }\n",
       "</style>\n",
       "<table border=\"1\" class=\"dataframe\">\n",
       "  <thead>\n",
       "    <tr style=\"text-align: right;\">\n",
       "      <th></th>\n",
       "      <th>Name</th>\n",
       "      <th>Roll No</th>\n",
       "      <th>Degree</th>\n",
       "      <th>Gender</th>\n",
       "      <th>Sem</th>\n",
       "      <th>CGPA</th>\n",
       "      <th>Age</th>\n",
       "      <th>Height</th>\n",
       "      <th>Weight</th>\n",
       "      <th>BMI</th>\n",
       "      <th>Gym/badminton</th>\n",
       "    </tr>\n",
       "  </thead>\n",
       "  <tbody>\n",
       "    <tr>\n",
       "      <th>0</th>\n",
       "      <td>YERIMAKU  BHAVYATARA</td>\n",
       "      <td>CS21B1026</td>\n",
       "      <td>B.Tech</td>\n",
       "      <td>0</td>\n",
       "      <td>5.0</td>\n",
       "      <td>10.0</td>\n",
       "      <td>21.0</td>\n",
       "      <td>164.0</td>\n",
       "      <td>68.0</td>\n",
       "      <td>25.28</td>\n",
       "      <td>0.0</td>\n",
       "    </tr>\n",
       "    <tr>\n",
       "      <th>1</th>\n",
       "      <td>H LAKSHITHA</td>\n",
       "      <td>CS22B1006</td>\n",
       "      <td>B.Tech</td>\n",
       "      <td>0</td>\n",
       "      <td>3.0</td>\n",
       "      <td>6.0</td>\n",
       "      <td>18.0</td>\n",
       "      <td>175.0</td>\n",
       "      <td>76.0</td>\n",
       "      <td>24.82</td>\n",
       "      <td>0.0</td>\n",
       "    </tr>\n",
       "    <tr>\n",
       "      <th>2</th>\n",
       "      <td>JANANI K.S</td>\n",
       "      <td>ME22B2041</td>\n",
       "      <td>B.Tech</td>\n",
       "      <td>0</td>\n",
       "      <td>3.0</td>\n",
       "      <td>10.0</td>\n",
       "      <td>20.0</td>\n",
       "      <td>177.0</td>\n",
       "      <td>78.0</td>\n",
       "      <td>24.90</td>\n",
       "      <td>0.0</td>\n",
       "    </tr>\n",
       "    <tr>\n",
       "      <th>3</th>\n",
       "      <td>PUNURI ABHISHEK</td>\n",
       "      <td>EC20B1040</td>\n",
       "      <td>B.Tech</td>\n",
       "      <td>3</td>\n",
       "      <td>7.0</td>\n",
       "      <td>6.0</td>\n",
       "      <td>22.0</td>\n",
       "      <td>168.0</td>\n",
       "      <td>70.0</td>\n",
       "      <td>24.80</td>\n",
       "      <td>0.0</td>\n",
       "    </tr>\n",
       "    <tr>\n",
       "      <th>4</th>\n",
       "      <td>BASAB GHOSH</td>\n",
       "      <td>CS21B1068</td>\n",
       "      <td>B.Tech</td>\n",
       "      <td>3</td>\n",
       "      <td>5.0</td>\n",
       "      <td>6.0</td>\n",
       "      <td>21.0</td>\n",
       "      <td>179.0</td>\n",
       "      <td>94.0</td>\n",
       "      <td>29.34</td>\n",
       "      <td>0.0</td>\n",
       "    </tr>\n",
       "    <tr>\n",
       "      <th>...</th>\n",
       "      <td>...</td>\n",
       "      <td>...</td>\n",
       "      <td>...</td>\n",
       "      <td>...</td>\n",
       "      <td>...</td>\n",
       "      <td>...</td>\n",
       "      <td>...</td>\n",
       "      <td>...</td>\n",
       "      <td>...</td>\n",
       "      <td>...</td>\n",
       "      <td>...</td>\n",
       "    </tr>\n",
       "    <tr>\n",
       "      <th>812</th>\n",
       "      <td>PALLE JAIPAUL</td>\n",
       "      <td>CS22B2036</td>\n",
       "      <td>B.Tech</td>\n",
       "      <td>3</td>\n",
       "      <td>3.0</td>\n",
       "      <td>8.0</td>\n",
       "      <td>18.0</td>\n",
       "      <td>174.0</td>\n",
       "      <td>79.0</td>\n",
       "      <td>26.09</td>\n",
       "      <td>0.0</td>\n",
       "    </tr>\n",
       "    <tr>\n",
       "      <th>813</th>\n",
       "      <td>P KAARTHICK NATESH</td>\n",
       "      <td>EC22B1004</td>\n",
       "      <td>B.Tech</td>\n",
       "      <td>3</td>\n",
       "      <td>3.0</td>\n",
       "      <td>9.0</td>\n",
       "      <td>20.0</td>\n",
       "      <td>164.0</td>\n",
       "      <td>51.0</td>\n",
       "      <td>18.96</td>\n",
       "      <td>1.0</td>\n",
       "    </tr>\n",
       "    <tr>\n",
       "      <th>814</th>\n",
       "      <td>VIKESH KUMAR</td>\n",
       "      <td>EC21B1008</td>\n",
       "      <td>B.Tech</td>\n",
       "      <td>3</td>\n",
       "      <td>5.0</td>\n",
       "      <td>8.0</td>\n",
       "      <td>20.0</td>\n",
       "      <td>172.0</td>\n",
       "      <td>71.0</td>\n",
       "      <td>24.00</td>\n",
       "      <td>1.0</td>\n",
       "    </tr>\n",
       "    <tr>\n",
       "      <th>815</th>\n",
       "      <td>KANCHARLA BABA CHARAN</td>\n",
       "      <td>EC21B1200</td>\n",
       "      <td>B.Tech</td>\n",
       "      <td>3</td>\n",
       "      <td>5.0</td>\n",
       "      <td>9.0</td>\n",
       "      <td>21.0</td>\n",
       "      <td>110.0</td>\n",
       "      <td>28.0</td>\n",
       "      <td>23.14</td>\n",
       "      <td>1.0</td>\n",
       "    </tr>\n",
       "    <tr>\n",
       "      <th>816</th>\n",
       "      <td>KANUGULA MONISHA</td>\n",
       "      <td>EC22B1005</td>\n",
       "      <td>B.Tech</td>\n",
       "      <td>0</td>\n",
       "      <td>3.0</td>\n",
       "      <td>8.0</td>\n",
       "      <td>19.0</td>\n",
       "      <td>165.0</td>\n",
       "      <td>64.0</td>\n",
       "      <td>23.51</td>\n",
       "      <td>1.0</td>\n",
       "    </tr>\n",
       "  </tbody>\n",
       "</table>\n",
       "<p>817 rows × 11 columns</p>\n",
       "</div>"
      ],
      "text/plain": [
       "                      Name    Roll No  Degree  Gender  Sem  CGPA   Age  \\\n",
       "0     YERIMAKU  BHAVYATARA  CS21B1026  B.Tech       0  5.0  10.0  21.0   \n",
       "1              H LAKSHITHA  CS22B1006  B.Tech       0  3.0   6.0  18.0   \n",
       "2               JANANI K.S  ME22B2041  B.Tech       0  3.0  10.0  20.0   \n",
       "3          PUNURI ABHISHEK  EC20B1040  B.Tech       3  7.0   6.0  22.0   \n",
       "4              BASAB GHOSH  CS21B1068  B.Tech       3  5.0   6.0  21.0   \n",
       "..                     ...        ...     ...     ...  ...   ...   ...   \n",
       "812          PALLE JAIPAUL  CS22B2036  B.Tech       3  3.0   8.0  18.0   \n",
       "813     P KAARTHICK NATESH  EC22B1004  B.Tech       3  3.0   9.0  20.0   \n",
       "814           VIKESH KUMAR  EC21B1008  B.Tech       3  5.0   8.0  20.0   \n",
       "815  KANCHARLA BABA CHARAN  EC21B1200  B.Tech       3  5.0   9.0  21.0   \n",
       "816       KANUGULA MONISHA  EC22B1005  B.Tech       0  3.0   8.0  19.0   \n",
       "\n",
       "     Height  Weight    BMI  Gym/badminton  \n",
       "0     164.0    68.0  25.28            0.0  \n",
       "1     175.0    76.0  24.82            0.0  \n",
       "2     177.0    78.0  24.90            0.0  \n",
       "3     168.0    70.0  24.80            0.0  \n",
       "4     179.0    94.0  29.34            0.0  \n",
       "..      ...     ...    ...            ...  \n",
       "812   174.0    79.0  26.09            0.0  \n",
       "813   164.0    51.0  18.96            1.0  \n",
       "814   172.0    71.0  24.00            1.0  \n",
       "815   110.0    28.0  23.14            1.0  \n",
       "816   165.0    64.0  23.51            1.0  \n",
       "\n",
       "[817 rows x 11 columns]"
      ]
     },
     "execution_count": 4,
     "metadata": {},
     "output_type": "execute_result"
    }
   ],
   "source": [
    "from sklearn.preprocessing import LabelEncoder\n",
    "label_encoder = LabelEncoder()\n",
    "data['Gender'] = label_encoder.fit_transform(data['Gender'])\n",
    "data\n"
   ]
  },
  {
   "cell_type": "markdown",
   "metadata": {},
   "source": [
    "## Data Cleaning "
   ]
  },
  {
   "cell_type": "code",
   "execution_count": 5,
   "metadata": {},
   "outputs": [
    {
     "name": "stdout",
     "output_type": "stream",
     "text": [
      "817\n",
      "807\n",
      "755\n"
     ]
    }
   ],
   "source": [
    "print(len(data))\n",
    "df_no_duplicates = data.dropna()\n",
    "print(len(df_no_duplicates))\n",
    "df_no_duplicates = df_no_duplicates.drop_duplicates(subset=['Name','Roll No'])\n",
    "print(len(df_no_duplicates))\n"
   ]
  },
  {
   "cell_type": "code",
   "execution_count": 6,
   "metadata": {},
   "outputs": [
    {
     "name": "stdout",
     "output_type": "stream",
     "text": [
      "           Gender         Sem        CGPA         Age      Height      Weight  \\\n",
      "count  755.000000  755.000000  755.000000  755.000000  755.000000  755.000000   \n",
      "mean     2.527152    4.780132    8.013245   20.132450  171.664901   73.719205   \n",
      "std      1.091438    1.631708    1.445687    1.459786    7.424261   11.624112   \n",
      "min      0.000000    3.000000    6.000000   18.000000  100.000000   28.000000   \n",
      "25%      3.000000    3.000000    7.000000   19.000000  168.000000   67.000000   \n",
      "50%      3.000000    5.000000    8.000000   20.000000  172.000000   72.000000   \n",
      "75%      3.000000    7.000000    9.000000   21.000000  175.000000   80.000000   \n",
      "max      3.000000    7.000000   10.000000   26.000000  190.000000  120.000000   \n",
      "\n",
      "              BMI  Gym/badminton  \n",
      "count  755.000000     755.000000  \n",
      "mean    24.888623       0.385430  \n",
      "std      2.648099       0.487019  \n",
      "min     15.700000       0.000000  \n",
      "25%     23.050000       0.000000  \n",
      "50%     24.810000       0.000000  \n",
      "75%     26.960000       1.000000  \n",
      "max     33.910000       1.000000  \n"
     ]
    }
   ],
   "source": [
    "print(df_no_duplicates.describe())"
   ]
  },
  {
   "cell_type": "markdown",
   "metadata": {},
   "source": []
  },
  {
   "cell_type": "code",
   "execution_count": 7,
   "metadata": {},
   "outputs": [],
   "source": [
    "df_no_duplicates['Height'].fillna(round(df_no_duplicates['Height'].mean(),2), inplace=True)\n",
    "df_no_duplicates['Weight'].fillna(round(df_no_duplicates['Weight'].mean(),2), inplace=True)\n",
    "df_no_duplicates['CGPA'].fillna(df_no_duplicates['CGPA'].mode(), inplace=True)"
   ]
  },
  {
   "cell_type": "code",
   "execution_count": 8,
   "metadata": {},
   "outputs": [
    {
     "name": "stderr",
     "output_type": "stream",
     "text": [
      "C:\\Users\\kulad\\anaconda3\\lib\\site-packages\\seaborn\\_decorators.py:36: FutureWarning: Pass the following variable as a keyword arg: x. From version 0.12, the only valid positional argument will be `data`, and passing other arguments without an explicit keyword will result in an error or misinterpretation.\n",
      "  warnings.warn(\n"
     ]
    },
    {
     "data": {
      "text/plain": [
       "<AxesSubplot:xlabel='Height'>"
      ]
     },
     "execution_count": 8,
     "metadata": {},
     "output_type": "execute_result"
    },
    {
     "data": {
      "image/png": "[encoded data removed]",
      "text/plain": [
       "<Figure size 432x288 with 1 Axes>"
      ]
     },
     "metadata": {
      "needs_background": "light"
     },
     "output_type": "display_data"
    }
   ],
   "source": [
    "sns.boxplot(df_no_duplicates['Height'])\n"
   ]
  },
  {
   "cell_type": "code",
   "execution_count": 9,
   "metadata": {},
   "outputs": [
    {
     "name": "stderr",
     "output_type": "stream",
     "text": [
      "C:\\Users\\kulad\\anaconda3\\lib\\site-packages\\seaborn\\_decorators.py:36: FutureWarning: Pass the following variable as a keyword arg: x. From version 0.12, the only valid positional argument will be `data`, and passing other arguments without an explicit keyword will result in an error or misinterpretation.\n",
      "  warnings.warn(\n"
     ]
    },
    {
     "data": {
      "text/plain": [
       "<AxesSubplot:xlabel='Weight'>"
      ]
     },
     "execution_count": 9,
     "metadata": {},
     "output_type": "execute_result"
    },
    {
     "data": {
      "image/png": "[encoded data removed]",
      "text/plain": [
       "<Figure size 432x288 with 1 Axes>"
      ]
     },
     "metadata": {
      "needs_background": "light"
     },
     "output_type": "display_data"
    }
   ],
   "source": [
    "sns.boxplot(df_no_duplicates['Weight'])"
   ]
  },
  {
   "cell_type": "code",
   "execution_count": 10,
   "metadata": {},
   "outputs": [
    {
     "name": "stderr",
     "output_type": "stream",
     "text": [
      "C:\\Users\\kulad\\anaconda3\\lib\\site-packages\\seaborn\\_decorators.py:36: FutureWarning: Pass the following variable as a keyword arg: x. From version 0.12, the only valid positional argument will be `data`, and passing other arguments without an explicit keyword will result in an error or misinterpretation.\n",
      "  warnings.warn(\n"
     ]
    },
    {
     "data": {
      "text/plain": [
       "<AxesSubplot:xlabel='BMI'>"
      ]
     },
     "execution_count": 10,
     "metadata": {},
     "output_type": "execute_result"
    },
    {
     "data": {
      "image/png": "[encoded data removed]",
      "text/plain": [
       "<Figure size 432x288 with 1 Axes>"
      ]
     },
     "metadata": {
      "needs_background": "light"
     },
     "output_type": "display_data"
    }
   ],
   "source": [
    "sns.boxplot(df_no_duplicates['BMI'])"
   ]
  },
  {
   "cell_type": "code",
   "execution_count": 11,
   "metadata": {},
   "outputs": [
    {
     "data": {
      "text/plain": [
       "(168.0, 175.0)"
      ]
     },
     "execution_count": 11,
     "metadata": {},
     "output_type": "execute_result"
    }
   ],
   "source": [
    "df = df_no_duplicates\n",
    "Q1 = df.Height.quantile(0.25)\n",
    "Q3 = df.Height.quantile(0.75)\n",
    "Q1, Q3"
   ]
  },
  {
   "cell_type": "code",
   "execution_count": 12,
   "metadata": {},
   "outputs": [
    {
     "data": {
      "text/plain": [
       "7.0"
      ]
     },
     "execution_count": 12,
     "metadata": {},
     "output_type": "execute_result"
    }
   ],
   "source": [
    "IQR = Q3 - Q1\n",
    "IQR"
   ]
  },
  {
   "cell_type": "code",
   "execution_count": 13,
   "metadata": {},
   "outputs": [
    {
     "data": {
      "text/plain": [
       "(157.5, 185.5)"
      ]
     },
     "execution_count": 13,
     "metadata": {},
     "output_type": "execute_result"
    }
   ],
   "source": [
    "lower_limit = Q1 - 1.5*IQR\n",
    "upper_limit = Q3 + 1.5*IQR\n",
    "lower_limit, upper_limit"
   ]
  },
  {
   "cell_type": "code",
   "execution_count": 14,
   "metadata": {},
   "outputs": [
    {
     "data": {
      "text/html": [
       "<div>\n",
       "<style scoped>\n",
       "    .dataframe tbody tr th:only-of-type {\n",
       "        vertical-align: middle;\n",
       "    }\n",
       "\n",
       "    .dataframe tbody tr th {\n",
       "        vertical-align: top;\n",
       "    }\n",
       "\n",
       "    .dataframe thead th {\n",
       "        text-align: right;\n",
       "    }\n",
       "</style>\n",
       "<table border=\"1\" class=\"dataframe\">\n",
       "  <thead>\n",
       "    <tr style=\"text-align: right;\">\n",
       "      <th></th>\n",
       "      <th>Name</th>\n",
       "      <th>Roll No</th>\n",
       "      <th>Degree</th>\n",
       "      <th>Gender</th>\n",
       "      <th>Sem</th>\n",
       "      <th>CGPA</th>\n",
       "      <th>Age</th>\n",
       "      <th>Height</th>\n",
       "      <th>Weight</th>\n",
       "      <th>BMI</th>\n",
       "      <th>Gym/badminton</th>\n",
       "    </tr>\n",
       "  </thead>\n",
       "  <tbody>\n",
       "    <tr>\n",
       "      <th>22</th>\n",
       "      <td>IYAPPAN MUTHUKUMAR K</td>\n",
       "      <td>ME22B1074</td>\n",
       "      <td>B.Tech</td>\n",
       "      <td>3</td>\n",
       "      <td>3.0</td>\n",
       "      <td>10.0</td>\n",
       "      <td>18.0</td>\n",
       "      <td>186.0</td>\n",
       "      <td>98.0</td>\n",
       "      <td>28.33</td>\n",
       "      <td>0.0</td>\n",
       "    </tr>\n",
       "    <tr>\n",
       "      <th>96</th>\n",
       "      <td>PABBINEEDI PAVAN VENKAT</td>\n",
       "      <td>ME21B1012</td>\n",
       "      <td>B.Tech</td>\n",
       "      <td>3</td>\n",
       "      <td>5.0</td>\n",
       "      <td>10.0</td>\n",
       "      <td>19.0</td>\n",
       "      <td>187.0</td>\n",
       "      <td>89.0</td>\n",
       "      <td>25.45</td>\n",
       "      <td>0.0</td>\n",
       "    </tr>\n",
       "    <tr>\n",
       "      <th>283</th>\n",
       "      <td>V.S.HARDHIK RAJ</td>\n",
       "      <td>EC22B1048</td>\n",
       "      <td>B.Tech</td>\n",
       "      <td>3</td>\n",
       "      <td>3.0</td>\n",
       "      <td>8.0</td>\n",
       "      <td>18.0</td>\n",
       "      <td>186.0</td>\n",
       "      <td>85.0</td>\n",
       "      <td>24.57</td>\n",
       "      <td>1.0</td>\n",
       "    </tr>\n",
       "    <tr>\n",
       "      <th>376</th>\n",
       "      <td>KONDABA DATTATRAY ASOLE</td>\n",
       "      <td>EC22B1036</td>\n",
       "      <td>B.Tech</td>\n",
       "      <td>3</td>\n",
       "      <td>3.0</td>\n",
       "      <td>10.0</td>\n",
       "      <td>18.0</td>\n",
       "      <td>186.0</td>\n",
       "      <td>85.0</td>\n",
       "      <td>24.57</td>\n",
       "      <td>1.0</td>\n",
       "    </tr>\n",
       "    <tr>\n",
       "      <th>493</th>\n",
       "      <td>B PRANEETH</td>\n",
       "      <td>ME21B2031</td>\n",
       "      <td>B.Tech</td>\n",
       "      <td>3</td>\n",
       "      <td>5.0</td>\n",
       "      <td>6.0</td>\n",
       "      <td>21.0</td>\n",
       "      <td>187.0</td>\n",
       "      <td>92.0</td>\n",
       "      <td>26.31</td>\n",
       "      <td>0.0</td>\n",
       "    </tr>\n",
       "    <tr>\n",
       "      <th>570</th>\n",
       "      <td>VARIKUTI NARENDRA REDDY</td>\n",
       "      <td>ME20B1234</td>\n",
       "      <td>B.Tech</td>\n",
       "      <td>3</td>\n",
       "      <td>7.0</td>\n",
       "      <td>9.0</td>\n",
       "      <td>22.0</td>\n",
       "      <td>107.0</td>\n",
       "      <td>29.0</td>\n",
       "      <td>25.43</td>\n",
       "      <td>1.0</td>\n",
       "    </tr>\n",
       "    <tr>\n",
       "      <th>629</th>\n",
       "      <td>GEDUPUDI BHARGHAV RAM</td>\n",
       "      <td>CS21B1090</td>\n",
       "      <td>B.Tech</td>\n",
       "      <td>3</td>\n",
       "      <td>5.0</td>\n",
       "      <td>9.0</td>\n",
       "      <td>20.0</td>\n",
       "      <td>100.0</td>\n",
       "      <td>30.0</td>\n",
       "      <td>30.00</td>\n",
       "      <td>0.0</td>\n",
       "    </tr>\n",
       "    <tr>\n",
       "      <th>720</th>\n",
       "      <td>ANDEY AASHISH</td>\n",
       "      <td>ME22B2212</td>\n",
       "      <td>B.Tech</td>\n",
       "      <td>3</td>\n",
       "      <td>3.0</td>\n",
       "      <td>8.0</td>\n",
       "      <td>19.0</td>\n",
       "      <td>190.0</td>\n",
       "      <td>120.0</td>\n",
       "      <td>33.20</td>\n",
       "      <td>1.0</td>\n",
       "    </tr>\n",
       "    <tr>\n",
       "      <th>746</th>\n",
       "      <td>BALIREDDY KALYAN SRIDHAR</td>\n",
       "      <td>ME22B1014</td>\n",
       "      <td>B.Tech</td>\n",
       "      <td>3</td>\n",
       "      <td>3.0</td>\n",
       "      <td>9.0</td>\n",
       "      <td>18.0</td>\n",
       "      <td>186.0</td>\n",
       "      <td>84.0</td>\n",
       "      <td>24.28</td>\n",
       "      <td>1.0</td>\n",
       "    </tr>\n",
       "    <tr>\n",
       "      <th>809</th>\n",
       "      <td>AZAD KUMAR</td>\n",
       "      <td>EC22B1109</td>\n",
       "      <td>B.Tech</td>\n",
       "      <td>3</td>\n",
       "      <td>3.0</td>\n",
       "      <td>7.0</td>\n",
       "      <td>19.0</td>\n",
       "      <td>187.0</td>\n",
       "      <td>88.0</td>\n",
       "      <td>25.17</td>\n",
       "      <td>1.0</td>\n",
       "    </tr>\n",
       "    <tr>\n",
       "      <th>815</th>\n",
       "      <td>KANCHARLA BABA CHARAN</td>\n",
       "      <td>EC21B1200</td>\n",
       "      <td>B.Tech</td>\n",
       "      <td>3</td>\n",
       "      <td>5.0</td>\n",
       "      <td>9.0</td>\n",
       "      <td>21.0</td>\n",
       "      <td>110.0</td>\n",
       "      <td>28.0</td>\n",
       "      <td>23.14</td>\n",
       "      <td>1.0</td>\n",
       "    </tr>\n",
       "  </tbody>\n",
       "</table>\n",
       "</div>"
      ],
      "text/plain": [
       "                         Name    Roll No  Degree  Gender  Sem  CGPA   Age  \\\n",
       "22       IYAPPAN MUTHUKUMAR K  ME22B1074  B.Tech       3  3.0  10.0  18.0   \n",
       "96    PABBINEEDI PAVAN VENKAT  ME21B1012  B.Tech       3  5.0  10.0  19.0   \n",
       "283           V.S.HARDHIK RAJ  EC22B1048  B.Tech       3  3.0   8.0  18.0   \n",
       "376   KONDABA DATTATRAY ASOLE  EC22B1036  B.Tech       3  3.0  10.0  18.0   \n",
       "493                B PRANEETH  ME21B2031  B.Tech       3  5.0   6.0  21.0   \n",
       "570   VARIKUTI NARENDRA REDDY  ME20B1234  B.Tech       3  7.0   9.0  22.0   \n",
       "629     GEDUPUDI BHARGHAV RAM  CS21B1090  B.Tech       3  5.0   9.0  20.0   \n",
       "720             ANDEY AASHISH  ME22B2212  B.Tech       3  3.0   8.0  19.0   \n",
       "746  BALIREDDY KALYAN SRIDHAR  ME22B1014  B.Tech       3  3.0   9.0  18.0   \n",
       "809                AZAD KUMAR  EC22B1109  B.Tech       3  3.0   7.0  19.0   \n",
       "815     KANCHARLA BABA CHARAN  EC21B1200  B.Tech       3  5.0   9.0  21.0   \n",
       "\n",
       "     Height  Weight    BMI  Gym/badminton  \n",
       "22    186.0    98.0  28.33            0.0  \n",
       "96    187.0    89.0  25.45            0.0  \n",
       "283   186.0    85.0  24.57            1.0  \n",
       "376   186.0    85.0  24.57            1.0  \n",
       "493   187.0    92.0  26.31            0.0  \n",
       "570   107.0    29.0  25.43            1.0  \n",
       "629   100.0    30.0  30.00            0.0  \n",
       "720   190.0   120.0  33.20            1.0  \n",
       "746   186.0    84.0  24.28            1.0  \n",
       "809   187.0    88.0  25.17            1.0  \n",
       "815   110.0    28.0  23.14            1.0  "
      ]
     },
     "execution_count": 14,
     "metadata": {},
     "output_type": "execute_result"
    }
   ],
   "source": [
    "height_outliers = df[(df.Height<lower_limit)|(df.Height>upper_limit)]\n",
    "height_outliers"
   ]
  },
  {
   "cell_type": "code",
   "execution_count": 15,
   "metadata": {},
   "outputs": [],
   "source": [
    "new_df = df[(df.Height>lower_limit)&(df.Height<upper_limit)]"
   ]
  },
  {
   "cell_type": "code",
   "execution_count": 16,
   "metadata": {},
   "outputs": [
    {
     "data": {
      "text/html": [
       "<div>\n",
       "<style scoped>\n",
       "    .dataframe tbody tr th:only-of-type {\n",
       "        vertical-align: middle;\n",
       "    }\n",
       "\n",
       "    .dataframe tbody tr th {\n",
       "        vertical-align: top;\n",
       "    }\n",
       "\n",
       "    .dataframe thead th {\n",
       "        text-align: right;\n",
       "    }\n",
       "</style>\n",
       "<table border=\"1\" class=\"dataframe\">\n",
       "  <thead>\n",
       "    <tr style=\"text-align: right;\">\n",
       "      <th></th>\n",
       "      <th>Gender</th>\n",
       "      <th>Sem</th>\n",
       "      <th>CGPA</th>\n",
       "      <th>Age</th>\n",
       "      <th>Height</th>\n",
       "      <th>Weight</th>\n",
       "      <th>BMI</th>\n",
       "      <th>Gym/badminton</th>\n",
       "    </tr>\n",
       "  </thead>\n",
       "  <tbody>\n",
       "    <tr>\n",
       "      <th>count</th>\n",
       "      <td>744.000000</td>\n",
       "      <td>744.000000</td>\n",
       "      <td>744.000000</td>\n",
       "      <td>744.000000</td>\n",
       "      <td>744.000000</td>\n",
       "      <td>744.000000</td>\n",
       "      <td>744.000000</td>\n",
       "      <td>744.000000</td>\n",
       "    </tr>\n",
       "    <tr>\n",
       "      <th>mean</th>\n",
       "      <td>2.520161</td>\n",
       "      <td>4.790323</td>\n",
       "      <td>8.004032</td>\n",
       "      <td>20.143817</td>\n",
       "      <td>171.767473</td>\n",
       "      <td>73.696237</td>\n",
       "      <td>24.866210</td>\n",
       "      <td>0.381720</td>\n",
       "    </tr>\n",
       "    <tr>\n",
       "      <th>std</th>\n",
       "      <td>1.097959</td>\n",
       "      <td>1.633799</td>\n",
       "      <td>1.446669</td>\n",
       "      <td>1.458078</td>\n",
       "      <td>5.979864</td>\n",
       "      <td>11.128477</td>\n",
       "      <td>2.638776</td>\n",
       "      <td>0.486135</td>\n",
       "    </tr>\n",
       "    <tr>\n",
       "      <th>min</th>\n",
       "      <td>0.000000</td>\n",
       "      <td>3.000000</td>\n",
       "      <td>6.000000</td>\n",
       "      <td>18.000000</td>\n",
       "      <td>158.000000</td>\n",
       "      <td>50.000000</td>\n",
       "      <td>15.700000</td>\n",
       "      <td>0.000000</td>\n",
       "    </tr>\n",
       "    <tr>\n",
       "      <th>25%</th>\n",
       "      <td>3.000000</td>\n",
       "      <td>3.000000</td>\n",
       "      <td>7.000000</td>\n",
       "      <td>19.000000</td>\n",
       "      <td>168.000000</td>\n",
       "      <td>67.000000</td>\n",
       "      <td>23.050000</td>\n",
       "      <td>0.000000</td>\n",
       "    </tr>\n",
       "    <tr>\n",
       "      <th>50%</th>\n",
       "      <td>3.000000</td>\n",
       "      <td>5.000000</td>\n",
       "      <td>8.000000</td>\n",
       "      <td>20.000000</td>\n",
       "      <td>172.000000</td>\n",
       "      <td>72.000000</td>\n",
       "      <td>24.805000</td>\n",
       "      <td>0.000000</td>\n",
       "    </tr>\n",
       "    <tr>\n",
       "      <th>75%</th>\n",
       "      <td>3.000000</td>\n",
       "      <td>7.000000</td>\n",
       "      <td>9.000000</td>\n",
       "      <td>21.000000</td>\n",
       "      <td>175.000000</td>\n",
       "      <td>80.000000</td>\n",
       "      <td>26.960000</td>\n",
       "      <td>1.000000</td>\n",
       "    </tr>\n",
       "    <tr>\n",
       "      <th>max</th>\n",
       "      <td>3.000000</td>\n",
       "      <td>7.000000</td>\n",
       "      <td>10.000000</td>\n",
       "      <td>26.000000</td>\n",
       "      <td>185.000000</td>\n",
       "      <td>110.000000</td>\n",
       "      <td>33.910000</td>\n",
       "      <td>1.000000</td>\n",
       "    </tr>\n",
       "  </tbody>\n",
       "</table>\n",
       "</div>"
      ],
      "text/plain": [
       "           Gender         Sem        CGPA         Age      Height      Weight  \\\n",
       "count  744.000000  744.000000  744.000000  744.000000  744.000000  744.000000   \n",
       "mean     2.520161    4.790323    8.004032   20.143817  171.767473   73.696237   \n",
       "std      1.097959    1.633799    1.446669    1.458078    5.979864   11.128477   \n",
       "min      0.000000    3.000000    6.000000   18.000000  158.000000   50.000000   \n",
       "25%      3.000000    3.000000    7.000000   19.000000  168.000000   67.000000   \n",
       "50%      3.000000    5.000000    8.000000   20.000000  172.000000   72.000000   \n",
       "75%      3.000000    7.000000    9.000000   21.000000  175.000000   80.000000   \n",
       "max      3.000000    7.000000   10.000000   26.000000  185.000000  110.000000   \n",
       "\n",
       "              BMI  Gym/badminton  \n",
       "count  744.000000     744.000000  \n",
       "mean    24.866210       0.381720  \n",
       "std      2.638776       0.486135  \n",
       "min     15.700000       0.000000  \n",
       "25%     23.050000       0.000000  \n",
       "50%     24.805000       0.000000  \n",
       "75%     26.960000       1.000000  \n",
       "max     33.910000       1.000000  "
      ]
     },
     "execution_count": 16,
     "metadata": {},
     "output_type": "execute_result"
    }
   ],
   "source": [
    "new_df.describe()"
   ]
  },
  {
   "cell_type": "code",
   "execution_count": 17,
   "metadata": {},
   "outputs": [
    {
     "name": "stderr",
     "output_type": "stream",
     "text": [
      "C:\\Users\\kulad\\anaconda3\\lib\\site-packages\\seaborn\\_decorators.py:36: FutureWarning: Pass the following variable as a keyword arg: x. From version 0.12, the only valid positional argument will be `data`, and passing other arguments without an explicit keyword will result in an error or misinterpretation.\n",
      "  warnings.warn(\n"
     ]
    },
    {
     "data": {
      "text/plain": [
       "<AxesSubplot:xlabel='Height'>"
      ]
     },
     "execution_count": 17,
     "metadata": {},
     "output_type": "execute_result"
    },
    {
     "data": {
      "image/png": "[encoded data removed]",
      "text/plain": [
       "<Figure size 432x288 with 1 Axes>"
      ]
     },
     "metadata": {
      "needs_background": "light"
     },
     "output_type": "display_data"
    }
   ],
   "source": [
    "sns.boxplot(new_df['Height'])"
   ]
  },
  {
   "cell_type": "code",
   "execution_count": 18,
   "metadata": {},
   "outputs": [
    {
     "data": {
      "image/png": "[encoded data removed]",
      "text/plain": [
       "<Figure size 432x288 with 1 Axes>"
      ]
     },
     "metadata": {
      "needs_background": "light"
     },
     "output_type": "display_data"
    }
   ],
   "source": [
    "plt.scatter(y=np.array(new_df['Gym/badminton']), x=np.array(new_df['Height']), c='g', marker = 'o')\n",
    "plt.scatter(y=np.array(height_outliers['Gym/badminton']), x=np.array(height_outliers['Height']), c='r', marker = 'o')\n",
    "plt.show()"
   ]
  },
  {
   "cell_type": "code",
   "execution_count": 19,
   "metadata": {},
   "outputs": [
    {
     "name": "stderr",
     "output_type": "stream",
     "text": [
      "C:\\Users\\kulad\\anaconda3\\lib\\site-packages\\seaborn\\_decorators.py:36: FutureWarning: Pass the following variable as a keyword arg: x. From version 0.12, the only valid positional argument will be `data`, and passing other arguments without an explicit keyword will result in an error or misinterpretation.\n",
      "  warnings.warn(\n"
     ]
    },
    {
     "data": {
      "text/plain": [
       "<AxesSubplot:xlabel='Weight'>"
      ]
     },
     "execution_count": 19,
     "metadata": {},
     "output_type": "execute_result"
    },
    {
     "data": {
      "image/png": "[encoded data removed]",
      "text/plain": [
       "<Figure size 432x288 with 1 Axes>"
      ]
     },
     "metadata": {
      "needs_background": "light"
     },
     "output_type": "display_data"
    }
   ],
   "source": [
    "sns.boxplot(new_df['Weight'])"
   ]
  },
  {
   "cell_type": "code",
   "execution_count": 20,
   "metadata": {},
   "outputs": [
    {
     "data": {
      "text/plain": [
       "(67.0, 80.0)"
      ]
     },
     "execution_count": 20,
     "metadata": {},
     "output_type": "execute_result"
    }
   ],
   "source": [
    "Q1 = new_df.Weight.quantile(0.25)\n",
    "Q3 = new_df.Weight.quantile(0.75)\n",
    "Q1, Q3"
   ]
  },
  {
   "cell_type": "code",
   "execution_count": 21,
   "metadata": {},
   "outputs": [
    {
     "data": {
      "text/plain": [
       "13.0"
      ]
     },
     "execution_count": 21,
     "metadata": {},
     "output_type": "execute_result"
    }
   ],
   "source": [
    "IQR = Q3 - Q1\n",
    "IQR"
   ]
  },
  {
   "cell_type": "code",
   "execution_count": 22,
   "metadata": {},
   "outputs": [
    {
     "data": {
      "text/plain": [
       "(47.5, 99.5)"
      ]
     },
     "execution_count": 22,
     "metadata": {},
     "output_type": "execute_result"
    }
   ],
   "source": [
    "lower_limit = Q1 - 1.5*IQR\n",
    "upper_limit = Q3 + 1.5*IQR\n",
    "lower_limit, upper_limit"
   ]
  },
  {
   "cell_type": "code",
   "execution_count": 23,
   "metadata": {},
   "outputs": [
    {
     "data": {
      "text/html": [
       "<div>\n",
       "<style scoped>\n",
       "    .dataframe tbody tr th:only-of-type {\n",
       "        vertical-align: middle;\n",
       "    }\n",
       "\n",
       "    .dataframe tbody tr th {\n",
       "        vertical-align: top;\n",
       "    }\n",
       "\n",
       "    .dataframe thead th {\n",
       "        text-align: right;\n",
       "    }\n",
       "</style>\n",
       "<table border=\"1\" class=\"dataframe\">\n",
       "  <thead>\n",
       "    <tr style=\"text-align: right;\">\n",
       "      <th></th>\n",
       "      <th>Name</th>\n",
       "      <th>Roll No</th>\n",
       "      <th>Degree</th>\n",
       "      <th>Gender</th>\n",
       "      <th>Sem</th>\n",
       "      <th>CGPA</th>\n",
       "      <th>Age</th>\n",
       "      <th>Height</th>\n",
       "      <th>Weight</th>\n",
       "      <th>BMI</th>\n",
       "      <th>Gym/badminton</th>\n",
       "    </tr>\n",
       "  </thead>\n",
       "  <tbody>\n",
       "    <tr>\n",
       "      <th>239</th>\n",
       "      <td>KRISHNA K BHARADWAJ</td>\n",
       "      <td>EC22B1073</td>\n",
       "      <td>B.Tech</td>\n",
       "      <td>3</td>\n",
       "      <td>3.0</td>\n",
       "      <td>6.0</td>\n",
       "      <td>18.0</td>\n",
       "      <td>179.0</td>\n",
       "      <td>100.0</td>\n",
       "      <td>31.21</td>\n",
       "      <td>1.0</td>\n",
       "    </tr>\n",
       "    <tr>\n",
       "      <th>277</th>\n",
       "      <td>RUSHABH RAJUKUMAR DARJI</td>\n",
       "      <td>EC21B1088</td>\n",
       "      <td>B.Tech</td>\n",
       "      <td>3</td>\n",
       "      <td>5.0</td>\n",
       "      <td>6.0</td>\n",
       "      <td>20.0</td>\n",
       "      <td>176.0</td>\n",
       "      <td>100.0</td>\n",
       "      <td>32.28</td>\n",
       "      <td>0.0</td>\n",
       "    </tr>\n",
       "    <tr>\n",
       "      <th>384</th>\n",
       "      <td>SURAJ KUMAR</td>\n",
       "      <td>ME22B1073</td>\n",
       "      <td>B.Tech</td>\n",
       "      <td>3</td>\n",
       "      <td>3.0</td>\n",
       "      <td>10.0</td>\n",
       "      <td>19.0</td>\n",
       "      <td>179.0</td>\n",
       "      <td>100.0</td>\n",
       "      <td>31.21</td>\n",
       "      <td>1.0</td>\n",
       "    </tr>\n",
       "    <tr>\n",
       "      <th>602</th>\n",
       "      <td>PRADEEP YADAV</td>\n",
       "      <td>EC22B1056</td>\n",
       "      <td>B.Tech</td>\n",
       "      <td>3</td>\n",
       "      <td>3.0</td>\n",
       "      <td>10.0</td>\n",
       "      <td>20.0</td>\n",
       "      <td>181.0</td>\n",
       "      <td>100.0</td>\n",
       "      <td>30.52</td>\n",
       "      <td>1.0</td>\n",
       "    </tr>\n",
       "    <tr>\n",
       "      <th>743</th>\n",
       "      <td>MYNENI KUSHMA</td>\n",
       "      <td>EC22B1201</td>\n",
       "      <td>B.Tech</td>\n",
       "      <td>0</td>\n",
       "      <td>3.0</td>\n",
       "      <td>9.0</td>\n",
       "      <td>19.0</td>\n",
       "      <td>185.0</td>\n",
       "      <td>110.0</td>\n",
       "      <td>32.16</td>\n",
       "      <td>0.0</td>\n",
       "    </tr>\n",
       "    <tr>\n",
       "      <th>769</th>\n",
       "      <td>THUMMA NAGENDRA KUMAR</td>\n",
       "      <td>ME22B2005</td>\n",
       "      <td>B.Tech</td>\n",
       "      <td>3</td>\n",
       "      <td>3.0</td>\n",
       "      <td>8.0</td>\n",
       "      <td>20.0</td>\n",
       "      <td>185.0</td>\n",
       "      <td>100.0</td>\n",
       "      <td>29.22</td>\n",
       "      <td>0.0</td>\n",
       "    </tr>\n",
       "  </tbody>\n",
       "</table>\n",
       "</div>"
      ],
      "text/plain": [
       "                        Name    Roll No  Degree  Gender  Sem  CGPA   Age  \\\n",
       "239      KRISHNA K BHARADWAJ  EC22B1073  B.Tech       3  3.0   6.0  18.0   \n",
       "277  RUSHABH RAJUKUMAR DARJI  EC21B1088  B.Tech       3  5.0   6.0  20.0   \n",
       "384              SURAJ KUMAR  ME22B1073  B.Tech       3  3.0  10.0  19.0   \n",
       "602            PRADEEP YADAV  EC22B1056  B.Tech       3  3.0  10.0  20.0   \n",
       "743            MYNENI KUSHMA  EC22B1201  B.Tech       0  3.0   9.0  19.0   \n",
       "769    THUMMA NAGENDRA KUMAR  ME22B2005  B.Tech       3  3.0   8.0  20.0   \n",
       "\n",
       "     Height  Weight    BMI  Gym/badminton  \n",
       "239   179.0   100.0  31.21            1.0  \n",
       "277   176.0   100.0  32.28            0.0  \n",
       "384   179.0   100.0  31.21            1.0  \n",
       "602   181.0   100.0  30.52            1.0  \n",
       "743   185.0   110.0  32.16            0.0  \n",
       "769   185.0   100.0  29.22            0.0  "
      ]
     },
     "execution_count": 23,
     "metadata": {},
     "output_type": "execute_result"
    }
   ],
   "source": [
    "weight_outliers = new_df[(new_df.Weight<lower_limit)|(new_df.Weight>upper_limit)]\n",
    "new_df = new_df[(new_df.Weight>lower_limit)&(new_df.Weight<upper_limit)]\n",
    "weight_outliers"
   ]
  },
  {
   "cell_type": "code",
   "execution_count": 24,
   "metadata": {},
   "outputs": [
    {
     "data": {
      "image/png": "[encoded data removed]",
      "text/plain": [
       "<Figure size 432x288 with 1 Axes>"
      ]
     },
     "metadata": {
      "needs_background": "light"
     },
     "output_type": "display_data"
    }
   ],
   "source": [
    "plt.scatter(y=np.array(new_df['Gym/badminton']), x=np.array(new_df['Weight']), c='g', marker = 'o')\n",
    "plt.scatter(y=np.array(weight_outliers['Gym/badminton']), x=np.array(weight_outliers['Weight']), c='r', marker = 'o')\n",
    "plt.show()"
   ]
  },
  {
   "cell_type": "code",
   "execution_count": 25,
   "metadata": {},
   "outputs": [
    {
     "name": "stderr",
     "output_type": "stream",
     "text": [
      "C:\\Users\\kulad\\anaconda3\\lib\\site-packages\\seaborn\\_decorators.py:36: FutureWarning: Pass the following variable as a keyword arg: x. From version 0.12, the only valid positional argument will be `data`, and passing other arguments without an explicit keyword will result in an error or misinterpretation.\n",
      "  warnings.warn(\n"
     ]
    },
    {
     "data": {
      "text/plain": [
       "<AxesSubplot:xlabel='BMI'>"
      ]
     },
     "execution_count": 25,
     "metadata": {},
     "output_type": "execute_result"
    },
    {
     "data": {
      "image/png": "[encoded data removed]",
      "text/plain": [
       "<Figure size 432x288 with 1 Axes>"
      ]
     },
     "metadata": {
      "needs_background": "light"
     },
     "output_type": "display_data"
    }
   ],
   "source": [
    "sns.boxplot(new_df['BMI'])"
   ]
  },
  {
   "cell_type": "code",
   "execution_count": 26,
   "metadata": {},
   "outputs": [
    {
     "data": {
      "text/plain": [
       "(23.05, 26.877499999999998)"
      ]
     },
     "execution_count": 26,
     "metadata": {},
     "output_type": "execute_result"
    }
   ],
   "source": [
    "Q1 = new_df.BMI.quantile(0.25)\n",
    "Q3 = new_df.BMI.quantile(0.75)\n",
    "Q1, Q3"
   ]
  },
  {
   "cell_type": "code",
   "execution_count": 27,
   "metadata": {},
   "outputs": [
    {
     "data": {
      "text/plain": [
       "3.827499999999997"
      ]
     },
     "execution_count": 27,
     "metadata": {},
     "output_type": "execute_result"
    }
   ],
   "source": [
    "IQR = Q3 - Q1\n",
    "IQR"
   ]
  },
  {
   "cell_type": "code",
   "execution_count": 28,
   "metadata": {},
   "outputs": [
    {
     "data": {
      "text/plain": [
       "(17.308750000000003, 32.61874999999999)"
      ]
     },
     "execution_count": 28,
     "metadata": {},
     "output_type": "execute_result"
    }
   ],
   "source": [
    "lower_limit = Q1 - 1.5*IQR\n",
    "upper_limit = Q3 + 1.5*IQR\n",
    "lower_limit, upper_limit"
   ]
  },
  {
   "cell_type": "code",
   "execution_count": 29,
   "metadata": {},
   "outputs": [
    {
     "data": {
      "text/html": [
       "<div>\n",
       "<style scoped>\n",
       "    .dataframe tbody tr th:only-of-type {\n",
       "        vertical-align: middle;\n",
       "    }\n",
       "\n",
       "    .dataframe tbody tr th {\n",
       "        vertical-align: top;\n",
       "    }\n",
       "\n",
       "    .dataframe thead th {\n",
       "        text-align: right;\n",
       "    }\n",
       "</style>\n",
       "<table border=\"1\" class=\"dataframe\">\n",
       "  <thead>\n",
       "    <tr style=\"text-align: right;\">\n",
       "      <th></th>\n",
       "      <th>Name</th>\n",
       "      <th>Roll No</th>\n",
       "      <th>Degree</th>\n",
       "      <th>Gender</th>\n",
       "      <th>Sem</th>\n",
       "      <th>CGPA</th>\n",
       "      <th>Age</th>\n",
       "      <th>Height</th>\n",
       "      <th>Weight</th>\n",
       "      <th>BMI</th>\n",
       "      <th>Gym/badminton</th>\n",
       "    </tr>\n",
       "  </thead>\n",
       "  <tbody>\n",
       "    <tr>\n",
       "      <th>0</th>\n",
       "      <td>YERIMAKU  BHAVYATARA</td>\n",
       "      <td>CS21B1026</td>\n",
       "      <td>B.Tech</td>\n",
       "      <td>0</td>\n",
       "      <td>5.0</td>\n",
       "      <td>10.0</td>\n",
       "      <td>21.0</td>\n",
       "      <td>164.0</td>\n",
       "      <td>68.0</td>\n",
       "      <td>25.28</td>\n",
       "      <td>0.0</td>\n",
       "    </tr>\n",
       "    <tr>\n",
       "      <th>1</th>\n",
       "      <td>H LAKSHITHA</td>\n",
       "      <td>CS22B1006</td>\n",
       "      <td>B.Tech</td>\n",
       "      <td>0</td>\n",
       "      <td>3.0</td>\n",
       "      <td>6.0</td>\n",
       "      <td>18.0</td>\n",
       "      <td>175.0</td>\n",
       "      <td>76.0</td>\n",
       "      <td>24.82</td>\n",
       "      <td>0.0</td>\n",
       "    </tr>\n",
       "    <tr>\n",
       "      <th>2</th>\n",
       "      <td>JANANI K.S</td>\n",
       "      <td>ME22B2041</td>\n",
       "      <td>B.Tech</td>\n",
       "      <td>0</td>\n",
       "      <td>3.0</td>\n",
       "      <td>10.0</td>\n",
       "      <td>20.0</td>\n",
       "      <td>177.0</td>\n",
       "      <td>78.0</td>\n",
       "      <td>24.90</td>\n",
       "      <td>0.0</td>\n",
       "    </tr>\n",
       "    <tr>\n",
       "      <th>3</th>\n",
       "      <td>PUNURI ABHISHEK</td>\n",
       "      <td>EC20B1040</td>\n",
       "      <td>B.Tech</td>\n",
       "      <td>3</td>\n",
       "      <td>7.0</td>\n",
       "      <td>6.0</td>\n",
       "      <td>22.0</td>\n",
       "      <td>168.0</td>\n",
       "      <td>70.0</td>\n",
       "      <td>24.80</td>\n",
       "      <td>0.0</td>\n",
       "    </tr>\n",
       "    <tr>\n",
       "      <th>4</th>\n",
       "      <td>BASAB GHOSH</td>\n",
       "      <td>CS21B1068</td>\n",
       "      <td>B.Tech</td>\n",
       "      <td>3</td>\n",
       "      <td>5.0</td>\n",
       "      <td>6.0</td>\n",
       "      <td>21.0</td>\n",
       "      <td>179.0</td>\n",
       "      <td>94.0</td>\n",
       "      <td>29.34</td>\n",
       "      <td>0.0</td>\n",
       "    </tr>\n",
       "    <tr>\n",
       "      <th>...</th>\n",
       "      <td>...</td>\n",
       "      <td>...</td>\n",
       "      <td>...</td>\n",
       "      <td>...</td>\n",
       "      <td>...</td>\n",
       "      <td>...</td>\n",
       "      <td>...</td>\n",
       "      <td>...</td>\n",
       "      <td>...</td>\n",
       "      <td>...</td>\n",
       "      <td>...</td>\n",
       "    </tr>\n",
       "    <tr>\n",
       "      <th>810</th>\n",
       "      <td>SURYA C S</td>\n",
       "      <td>ME21B1052</td>\n",
       "      <td>B.Tech</td>\n",
       "      <td>3</td>\n",
       "      <td>5.0</td>\n",
       "      <td>10.0</td>\n",
       "      <td>19.0</td>\n",
       "      <td>177.0</td>\n",
       "      <td>89.0</td>\n",
       "      <td>28.41</td>\n",
       "      <td>0.0</td>\n",
       "    </tr>\n",
       "    <tr>\n",
       "      <th>811</th>\n",
       "      <td>MANOJI M R</td>\n",
       "      <td>ME21B1027</td>\n",
       "      <td>B.Tech</td>\n",
       "      <td>3</td>\n",
       "      <td>5.0</td>\n",
       "      <td>6.0</td>\n",
       "      <td>19.0</td>\n",
       "      <td>158.0</td>\n",
       "      <td>65.0</td>\n",
       "      <td>26.04</td>\n",
       "      <td>1.0</td>\n",
       "    </tr>\n",
       "    <tr>\n",
       "      <th>812</th>\n",
       "      <td>PALLE JAIPAUL</td>\n",
       "      <td>CS22B2036</td>\n",
       "      <td>B.Tech</td>\n",
       "      <td>3</td>\n",
       "      <td>3.0</td>\n",
       "      <td>8.0</td>\n",
       "      <td>18.0</td>\n",
       "      <td>174.0</td>\n",
       "      <td>79.0</td>\n",
       "      <td>26.09</td>\n",
       "      <td>0.0</td>\n",
       "    </tr>\n",
       "    <tr>\n",
       "      <th>814</th>\n",
       "      <td>VIKESH KUMAR</td>\n",
       "      <td>EC21B1008</td>\n",
       "      <td>B.Tech</td>\n",
       "      <td>3</td>\n",
       "      <td>5.0</td>\n",
       "      <td>8.0</td>\n",
       "      <td>20.0</td>\n",
       "      <td>172.0</td>\n",
       "      <td>71.0</td>\n",
       "      <td>24.00</td>\n",
       "      <td>1.0</td>\n",
       "    </tr>\n",
       "    <tr>\n",
       "      <th>816</th>\n",
       "      <td>KANUGULA MONISHA</td>\n",
       "      <td>EC22B1005</td>\n",
       "      <td>B.Tech</td>\n",
       "      <td>0</td>\n",
       "      <td>3.0</td>\n",
       "      <td>8.0</td>\n",
       "      <td>19.0</td>\n",
       "      <td>165.0</td>\n",
       "      <td>64.0</td>\n",
       "      <td>23.51</td>\n",
       "      <td>1.0</td>\n",
       "    </tr>\n",
       "  </tbody>\n",
       "</table>\n",
       "<p>735 rows × 11 columns</p>\n",
       "</div>"
      ],
      "text/plain": [
       "                     Name    Roll No  Degree  Gender  Sem  CGPA   Age  Height  \\\n",
       "0    YERIMAKU  BHAVYATARA  CS21B1026  B.Tech       0  5.0  10.0  21.0   164.0   \n",
       "1             H LAKSHITHA  CS22B1006  B.Tech       0  3.0   6.0  18.0   175.0   \n",
       "2              JANANI K.S  ME22B2041  B.Tech       0  3.0  10.0  20.0   177.0   \n",
       "3         PUNURI ABHISHEK  EC20B1040  B.Tech       3  7.0   6.0  22.0   168.0   \n",
       "4             BASAB GHOSH  CS21B1068  B.Tech       3  5.0   6.0  21.0   179.0   \n",
       "..                    ...        ...     ...     ...  ...   ...   ...     ...   \n",
       "810             SURYA C S  ME21B1052  B.Tech       3  5.0  10.0  19.0   177.0   \n",
       "811            MANOJI M R  ME21B1027  B.Tech       3  5.0   6.0  19.0   158.0   \n",
       "812         PALLE JAIPAUL  CS22B2036  B.Tech       3  3.0   8.0  18.0   174.0   \n",
       "814          VIKESH KUMAR  EC21B1008  B.Tech       3  5.0   8.0  20.0   172.0   \n",
       "816      KANUGULA MONISHA  EC22B1005  B.Tech       0  3.0   8.0  19.0   165.0   \n",
       "\n",
       "     Weight    BMI  Gym/badminton  \n",
       "0      68.0  25.28            0.0  \n",
       "1      76.0  24.82            0.0  \n",
       "2      78.0  24.90            0.0  \n",
       "3      70.0  24.80            0.0  \n",
       "4      94.0  29.34            0.0  \n",
       "..      ...    ...            ...  \n",
       "810    89.0  28.41            0.0  \n",
       "811    65.0  26.04            1.0  \n",
       "812    79.0  26.09            0.0  \n",
       "814    71.0  24.00            1.0  \n",
       "816    64.0  23.51            1.0  \n",
       "\n",
       "[735 rows x 11 columns]"
      ]
     },
     "execution_count": 29,
     "metadata": {},
     "output_type": "execute_result"
    }
   ],
   "source": [
    "bmi_outliers = new_df[(new_df.BMI<lower_limit)|(new_df.BMI>upper_limit)]\n",
    "new_df = new_df[(new_df.BMI>lower_limit)&(new_df.BMI<upper_limit)]\n",
    "new_df"
   ]
  },
  {
   "cell_type": "code",
   "execution_count": 30,
   "metadata": {},
   "outputs": [
    {
     "data": {
      "image/png": "[encoded data removed]",
      "text/plain": [
       "<Figure size 432x288 with 1 Axes>"
      ]
     },
     "metadata": {
      "needs_background": "light"
     },
     "output_type": "display_data"
    }
   ],
   "source": [
    "plt.scatter(y=np.array(new_df['Gym/badminton']), x=np.array(new_df['BMI']), c='g', marker = 'o')\n",
    "plt.scatter(y=np.array(bmi_outliers['Gym/badminton']), x=np.array(bmi_outliers['BMI']), c='r', marker = 'o')\n",
    "plt.show()"
   ]
  },
  {
   "cell_type": "code",
   "execution_count": 41,
   "metadata": {},
   "outputs": [
    {
     "data": {
      "text/html": [
       "<div>\n",
       "<style scoped>\n",
       "    .dataframe tbody tr th:only-of-type {\n",
       "        vertical-align: middle;\n",
       "    }\n",
       "\n",
       "    .dataframe tbody tr th {\n",
       "        vertical-align: top;\n",
       "    }\n",
       "\n",
       "    .dataframe thead th {\n",
       "        text-align: right;\n",
       "    }\n",
       "</style>\n",
       "<table border=\"1\" class=\"dataframe\">\n",
       "  <thead>\n",
       "    <tr style=\"text-align: right;\">\n",
       "      <th></th>\n",
       "      <th>Name</th>\n",
       "      <th>Roll No</th>\n",
       "      <th>Degree</th>\n",
       "      <th>Gender</th>\n",
       "      <th>Sem</th>\n",
       "      <th>CGPA</th>\n",
       "      <th>Age</th>\n",
       "      <th>Height</th>\n",
       "      <th>Weight</th>\n",
       "      <th>BMI</th>\n",
       "      <th>Gym/badminton</th>\n",
       "      <th>z_score1</th>\n",
       "      <th>z_score2</th>\n",
       "    </tr>\n",
       "  </thead>\n",
       "  <tbody>\n",
       "    <tr>\n",
       "      <th>570</th>\n",
       "      <td>VARIKUTI NARENDRA REDDY</td>\n",
       "      <td>ME20B1234</td>\n",
       "      <td>B.Tech</td>\n",
       "      <td>3</td>\n",
       "      <td>7.0</td>\n",
       "      <td>9.0</td>\n",
       "      <td>22.0</td>\n",
       "      <td>107.0</td>\n",
       "      <td>29.0</td>\n",
       "      <td>25.43</td>\n",
       "      <td>1.0</td>\n",
       "      <td>-8.709944</td>\n",
       "      <td>-3.847107</td>\n",
       "    </tr>\n",
       "    <tr>\n",
       "      <th>629</th>\n",
       "      <td>GEDUPUDI BHARGHAV RAM</td>\n",
       "      <td>CS21B1090</td>\n",
       "      <td>B.Tech</td>\n",
       "      <td>3</td>\n",
       "      <td>5.0</td>\n",
       "      <td>9.0</td>\n",
       "      <td>20.0</td>\n",
       "      <td>100.0</td>\n",
       "      <td>30.0</td>\n",
       "      <td>30.00</td>\n",
       "      <td>0.0</td>\n",
       "      <td>-9.652799</td>\n",
       "      <td>-3.761079</td>\n",
       "    </tr>\n",
       "    <tr>\n",
       "      <th>720</th>\n",
       "      <td>ANDEY AASHISH</td>\n",
       "      <td>ME22B2212</td>\n",
       "      <td>B.Tech</td>\n",
       "      <td>3</td>\n",
       "      <td>3.0</td>\n",
       "      <td>8.0</td>\n",
       "      <td>19.0</td>\n",
       "      <td>190.0</td>\n",
       "      <td>120.0</td>\n",
       "      <td>33.20</td>\n",
       "      <td>1.0</td>\n",
       "      <td>2.469619</td>\n",
       "      <td>3.981448</td>\n",
       "    </tr>\n",
       "    <tr>\n",
       "      <th>743</th>\n",
       "      <td>MYNENI KUSHMA</td>\n",
       "      <td>EC22B1201</td>\n",
       "      <td>B.Tech</td>\n",
       "      <td>0</td>\n",
       "      <td>3.0</td>\n",
       "      <td>9.0</td>\n",
       "      <td>19.0</td>\n",
       "      <td>185.0</td>\n",
       "      <td>110.0</td>\n",
       "      <td>32.16</td>\n",
       "      <td>0.0</td>\n",
       "      <td>1.796152</td>\n",
       "      <td>3.121167</td>\n",
       "    </tr>\n",
       "    <tr>\n",
       "      <th>815</th>\n",
       "      <td>KANCHARLA BABA CHARAN</td>\n",
       "      <td>EC21B1200</td>\n",
       "      <td>B.Tech</td>\n",
       "      <td>3</td>\n",
       "      <td>5.0</td>\n",
       "      <td>9.0</td>\n",
       "      <td>21.0</td>\n",
       "      <td>110.0</td>\n",
       "      <td>28.0</td>\n",
       "      <td>23.14</td>\n",
       "      <td>1.0</td>\n",
       "      <td>-8.305864</td>\n",
       "      <td>-3.933135</td>\n",
       "    </tr>\n",
       "  </tbody>\n",
       "</table>\n",
       "</div>"
      ],
      "text/plain": [
       "                        Name    Roll No  Degree  Gender  Sem  CGPA   Age  \\\n",
       "570  VARIKUTI NARENDRA REDDY  ME20B1234  B.Tech       3  7.0   9.0  22.0   \n",
       "629    GEDUPUDI BHARGHAV RAM  CS21B1090  B.Tech       3  5.0   9.0  20.0   \n",
       "720            ANDEY AASHISH  ME22B2212  B.Tech       3  3.0   8.0  19.0   \n",
       "743            MYNENI KUSHMA  EC22B1201  B.Tech       0  3.0   9.0  19.0   \n",
       "815    KANCHARLA BABA CHARAN  EC21B1200  B.Tech       3  5.0   9.0  21.0   \n",
       "\n",
       "     Height  Weight    BMI  Gym/badminton  z_score1  z_score2  \n",
       "570   107.0    29.0  25.43            1.0 -8.709944 -3.847107  \n",
       "629   100.0    30.0  30.00            0.0 -9.652799 -3.761079  \n",
       "720   190.0   120.0  33.20            1.0  2.469619  3.981448  \n",
       "743   185.0   110.0  32.16            0.0  1.796152  3.121167  \n",
       "815   110.0    28.0  23.14            1.0 -8.305864 -3.933135  "
      ]
     },
     "execution_count": 41,
     "metadata": {},
     "output_type": "execute_result"
    }
   ],
   "source": [
    "data =df\n",
    "data['z_score1'] = (data.Height - data.Height.mean())/data.Height.std()\n",
    "data['z_score2'] = (data.Weight - data.Weight.mean())/data.Weight.std()\n",
    "weight_outliers = data[(data['z_score2']>3)|(data['z_score2']<-3)]\n",
    "weight_outliers"
   ]
  },
  {
   "cell_type": "code",
   "execution_count": 32,
   "metadata": {},
   "outputs": [
    {
     "data": {
      "text/html": [
       "<div>\n",
       "<style scoped>\n",
       "    .dataframe tbody tr th:only-of-type {\n",
       "        vertical-align: middle;\n",
       "    }\n",
       "\n",
       "    .dataframe tbody tr th {\n",
       "        vertical-align: top;\n",
       "    }\n",
       "\n",
       "    .dataframe thead th {\n",
       "        text-align: right;\n",
       "    }\n",
       "</style>\n",
       "<table border=\"1\" class=\"dataframe\">\n",
       "  <thead>\n",
       "    <tr style=\"text-align: right;\">\n",
       "      <th></th>\n",
       "      <th>Name</th>\n",
       "      <th>Roll No</th>\n",
       "      <th>Degree</th>\n",
       "      <th>Gender</th>\n",
       "      <th>Sem</th>\n",
       "      <th>CGPA</th>\n",
       "      <th>Age</th>\n",
       "      <th>Height</th>\n",
       "      <th>Weight</th>\n",
       "      <th>BMI</th>\n",
       "      <th>Gym/badminton</th>\n",
       "      <th>z_score1</th>\n",
       "      <th>z_score2</th>\n",
       "    </tr>\n",
       "  </thead>\n",
       "  <tbody>\n",
       "    <tr>\n",
       "      <th>570</th>\n",
       "      <td>VARIKUTI NARENDRA REDDY</td>\n",
       "      <td>ME20B1234</td>\n",
       "      <td>B.Tech</td>\n",
       "      <td>3</td>\n",
       "      <td>7.0</td>\n",
       "      <td>9.0</td>\n",
       "      <td>22.0</td>\n",
       "      <td>107.0</td>\n",
       "      <td>29.0</td>\n",
       "      <td>25.43</td>\n",
       "      <td>1.0</td>\n",
       "      <td>-8.709944</td>\n",
       "      <td>-3.847107</td>\n",
       "    </tr>\n",
       "    <tr>\n",
       "      <th>629</th>\n",
       "      <td>GEDUPUDI BHARGHAV RAM</td>\n",
       "      <td>CS21B1090</td>\n",
       "      <td>B.Tech</td>\n",
       "      <td>3</td>\n",
       "      <td>5.0</td>\n",
       "      <td>9.0</td>\n",
       "      <td>20.0</td>\n",
       "      <td>100.0</td>\n",
       "      <td>30.0</td>\n",
       "      <td>30.00</td>\n",
       "      <td>0.0</td>\n",
       "      <td>-9.652799</td>\n",
       "      <td>-3.761079</td>\n",
       "    </tr>\n",
       "    <tr>\n",
       "      <th>815</th>\n",
       "      <td>KANCHARLA BABA CHARAN</td>\n",
       "      <td>EC21B1200</td>\n",
       "      <td>B.Tech</td>\n",
       "      <td>3</td>\n",
       "      <td>5.0</td>\n",
       "      <td>9.0</td>\n",
       "      <td>21.0</td>\n",
       "      <td>110.0</td>\n",
       "      <td>28.0</td>\n",
       "      <td>23.14</td>\n",
       "      <td>1.0</td>\n",
       "      <td>-8.305864</td>\n",
       "      <td>-3.933135</td>\n",
       "    </tr>\n",
       "  </tbody>\n",
       "</table>\n",
       "</div>"
      ],
      "text/plain": [
       "                        Name    Roll No  Degree  Gender  Sem  CGPA   Age  \\\n",
       "570  VARIKUTI NARENDRA REDDY  ME20B1234  B.Tech       3  7.0   9.0  22.0   \n",
       "629    GEDUPUDI BHARGHAV RAM  CS21B1090  B.Tech       3  5.0   9.0  20.0   \n",
       "815    KANCHARLA BABA CHARAN  EC21B1200  B.Tech       3  5.0   9.0  21.0   \n",
       "\n",
       "     Height  Weight    BMI  Gym/badminton  z_score1  z_score2  \n",
       "570   107.0    29.0  25.43            1.0 -8.709944 -3.847107  \n",
       "629   100.0    30.0  30.00            0.0 -9.652799 -3.761079  \n",
       "815   110.0    28.0  23.14            1.0 -8.305864 -3.933135  "
      ]
     },
     "execution_count": 32,
     "metadata": {},
     "output_type": "execute_result"
    }
   ],
   "source": [
    "height_outliers = data[(data['z_score1']>3)|(data['z_score1']<-3)]\n",
    "height_outliers"
   ]
  },
  {
   "cell_type": "code",
   "execution_count": 33,
   "metadata": {},
   "outputs": [
    {
     "data": {
      "text/html": [
       "<div>\n",
       "<style scoped>\n",
       "    .dataframe tbody tr th:only-of-type {\n",
       "        vertical-align: middle;\n",
       "    }\n",
       "\n",
       "    .dataframe tbody tr th {\n",
       "        vertical-align: top;\n",
       "    }\n",
       "\n",
       "    .dataframe thead th {\n",
       "        text-align: right;\n",
       "    }\n",
       "</style>\n",
       "<table border=\"1\" class=\"dataframe\">\n",
       "  <thead>\n",
       "    <tr style=\"text-align: right;\">\n",
       "      <th></th>\n",
       "      <th>Name</th>\n",
       "      <th>Roll No</th>\n",
       "      <th>Degree</th>\n",
       "      <th>Gender</th>\n",
       "      <th>Sem</th>\n",
       "      <th>CGPA</th>\n",
       "      <th>Age</th>\n",
       "      <th>Height</th>\n",
       "      <th>Weight</th>\n",
       "      <th>BMI</th>\n",
       "      <th>Gym/badminton</th>\n",
       "      <th>z_score1</th>\n",
       "      <th>z_score2</th>\n",
       "    </tr>\n",
       "  </thead>\n",
       "  <tbody>\n",
       "    <tr>\n",
       "      <th>0</th>\n",
       "      <td>YERIMAKU  BHAVYATARA</td>\n",
       "      <td>CS21B1026</td>\n",
       "      <td>B.Tech</td>\n",
       "      <td>0</td>\n",
       "      <td>5.0</td>\n",
       "      <td>10.0</td>\n",
       "      <td>21.0</td>\n",
       "      <td>164.0</td>\n",
       "      <td>68.0</td>\n",
       "      <td>25.28</td>\n",
       "      <td>0.0</td>\n",
       "      <td>-1.032413</td>\n",
       "      <td>-0.492012</td>\n",
       "    </tr>\n",
       "    <tr>\n",
       "      <th>1</th>\n",
       "      <td>H LAKSHITHA</td>\n",
       "      <td>CS22B1006</td>\n",
       "      <td>B.Tech</td>\n",
       "      <td>0</td>\n",
       "      <td>3.0</td>\n",
       "      <td>6.0</td>\n",
       "      <td>18.0</td>\n",
       "      <td>175.0</td>\n",
       "      <td>76.0</td>\n",
       "      <td>24.82</td>\n",
       "      <td>0.0</td>\n",
       "      <td>0.449216</td>\n",
       "      <td>0.196212</td>\n",
       "    </tr>\n",
       "    <tr>\n",
       "      <th>2</th>\n",
       "      <td>JANANI K.S</td>\n",
       "      <td>ME22B2041</td>\n",
       "      <td>B.Tech</td>\n",
       "      <td>0</td>\n",
       "      <td>3.0</td>\n",
       "      <td>10.0</td>\n",
       "      <td>20.0</td>\n",
       "      <td>177.0</td>\n",
       "      <td>78.0</td>\n",
       "      <td>24.90</td>\n",
       "      <td>0.0</td>\n",
       "      <td>0.718603</td>\n",
       "      <td>0.368269</td>\n",
       "    </tr>\n",
       "    <tr>\n",
       "      <th>3</th>\n",
       "      <td>PUNURI ABHISHEK</td>\n",
       "      <td>EC20B1040</td>\n",
       "      <td>B.Tech</td>\n",
       "      <td>3</td>\n",
       "      <td>7.0</td>\n",
       "      <td>6.0</td>\n",
       "      <td>22.0</td>\n",
       "      <td>168.0</td>\n",
       "      <td>70.0</td>\n",
       "      <td>24.80</td>\n",
       "      <td>0.0</td>\n",
       "      <td>-0.493638</td>\n",
       "      <td>-0.319956</td>\n",
       "    </tr>\n",
       "    <tr>\n",
       "      <th>4</th>\n",
       "      <td>BASAB GHOSH</td>\n",
       "      <td>CS21B1068</td>\n",
       "      <td>B.Tech</td>\n",
       "      <td>3</td>\n",
       "      <td>5.0</td>\n",
       "      <td>6.0</td>\n",
       "      <td>21.0</td>\n",
       "      <td>179.0</td>\n",
       "      <td>94.0</td>\n",
       "      <td>29.34</td>\n",
       "      <td>0.0</td>\n",
       "      <td>0.987990</td>\n",
       "      <td>1.744718</td>\n",
       "    </tr>\n",
       "    <tr>\n",
       "      <th>...</th>\n",
       "      <td>...</td>\n",
       "      <td>...</td>\n",
       "      <td>...</td>\n",
       "      <td>...</td>\n",
       "      <td>...</td>\n",
       "      <td>...</td>\n",
       "      <td>...</td>\n",
       "      <td>...</td>\n",
       "      <td>...</td>\n",
       "      <td>...</td>\n",
       "      <td>...</td>\n",
       "      <td>...</td>\n",
       "      <td>...</td>\n",
       "    </tr>\n",
       "    <tr>\n",
       "      <th>810</th>\n",
       "      <td>SURYA C S</td>\n",
       "      <td>ME21B1052</td>\n",
       "      <td>B.Tech</td>\n",
       "      <td>3</td>\n",
       "      <td>5.0</td>\n",
       "      <td>10.0</td>\n",
       "      <td>19.0</td>\n",
       "      <td>177.0</td>\n",
       "      <td>89.0</td>\n",
       "      <td>28.41</td>\n",
       "      <td>0.0</td>\n",
       "      <td>0.718603</td>\n",
       "      <td>1.314577</td>\n",
       "    </tr>\n",
       "    <tr>\n",
       "      <th>811</th>\n",
       "      <td>MANOJI M R</td>\n",
       "      <td>ME21B1027</td>\n",
       "      <td>B.Tech</td>\n",
       "      <td>3</td>\n",
       "      <td>5.0</td>\n",
       "      <td>6.0</td>\n",
       "      <td>19.0</td>\n",
       "      <td>158.0</td>\n",
       "      <td>65.0</td>\n",
       "      <td>26.04</td>\n",
       "      <td>1.0</td>\n",
       "      <td>-1.840574</td>\n",
       "      <td>-0.750096</td>\n",
       "    </tr>\n",
       "    <tr>\n",
       "      <th>812</th>\n",
       "      <td>PALLE JAIPAUL</td>\n",
       "      <td>CS22B2036</td>\n",
       "      <td>B.Tech</td>\n",
       "      <td>3</td>\n",
       "      <td>3.0</td>\n",
       "      <td>8.0</td>\n",
       "      <td>18.0</td>\n",
       "      <td>174.0</td>\n",
       "      <td>79.0</td>\n",
       "      <td>26.09</td>\n",
       "      <td>0.0</td>\n",
       "      <td>0.314523</td>\n",
       "      <td>0.454297</td>\n",
       "    </tr>\n",
       "    <tr>\n",
       "      <th>814</th>\n",
       "      <td>VIKESH KUMAR</td>\n",
       "      <td>EC21B1008</td>\n",
       "      <td>B.Tech</td>\n",
       "      <td>3</td>\n",
       "      <td>5.0</td>\n",
       "      <td>8.0</td>\n",
       "      <td>20.0</td>\n",
       "      <td>172.0</td>\n",
       "      <td>71.0</td>\n",
       "      <td>24.00</td>\n",
       "      <td>1.0</td>\n",
       "      <td>0.045136</td>\n",
       "      <td>-0.233928</td>\n",
       "    </tr>\n",
       "    <tr>\n",
       "      <th>816</th>\n",
       "      <td>KANUGULA MONISHA</td>\n",
       "      <td>EC22B1005</td>\n",
       "      <td>B.Tech</td>\n",
       "      <td>0</td>\n",
       "      <td>3.0</td>\n",
       "      <td>8.0</td>\n",
       "      <td>19.0</td>\n",
       "      <td>165.0</td>\n",
       "      <td>64.0</td>\n",
       "      <td>23.51</td>\n",
       "      <td>1.0</td>\n",
       "      <td>-0.897719</td>\n",
       "      <td>-0.836125</td>\n",
       "    </tr>\n",
       "  </tbody>\n",
       "</table>\n",
       "<p>750 rows × 13 columns</p>\n",
       "</div>"
      ],
      "text/plain": [
       "                     Name    Roll No  Degree  Gender  Sem  CGPA   Age  Height  \\\n",
       "0    YERIMAKU  BHAVYATARA  CS21B1026  B.Tech       0  5.0  10.0  21.0   164.0   \n",
       "1             H LAKSHITHA  CS22B1006  B.Tech       0  3.0   6.0  18.0   175.0   \n",
       "2              JANANI K.S  ME22B2041  B.Tech       0  3.0  10.0  20.0   177.0   \n",
       "3         PUNURI ABHISHEK  EC20B1040  B.Tech       3  7.0   6.0  22.0   168.0   \n",
       "4             BASAB GHOSH  CS21B1068  B.Tech       3  5.0   6.0  21.0   179.0   \n",
       "..                    ...        ...     ...     ...  ...   ...   ...     ...   \n",
       "810             SURYA C S  ME21B1052  B.Tech       3  5.0  10.0  19.0   177.0   \n",
       "811            MANOJI M R  ME21B1027  B.Tech       3  5.0   6.0  19.0   158.0   \n",
       "812         PALLE JAIPAUL  CS22B2036  B.Tech       3  3.0   8.0  18.0   174.0   \n",
       "814          VIKESH KUMAR  EC21B1008  B.Tech       3  5.0   8.0  20.0   172.0   \n",
       "816      KANUGULA MONISHA  EC22B1005  B.Tech       0  3.0   8.0  19.0   165.0   \n",
       "\n",
       "     Weight    BMI  Gym/badminton  z_score1  z_score2  \n",
       "0      68.0  25.28            0.0 -1.032413 -0.492012  \n",
       "1      76.0  24.82            0.0  0.449216  0.196212  \n",
       "2      78.0  24.90            0.0  0.718603  0.368269  \n",
       "3      70.0  24.80            0.0 -0.493638 -0.319956  \n",
       "4      94.0  29.34            0.0  0.987990  1.744718  \n",
       "..      ...    ...            ...       ...       ...  \n",
       "810    89.0  28.41            0.0  0.718603  1.314577  \n",
       "811    65.0  26.04            1.0 -1.840574 -0.750096  \n",
       "812    79.0  26.09            0.0  0.314523  0.454297  \n",
       "814    71.0  24.00            1.0  0.045136 -0.233928  \n",
       "816    64.0  23.51            1.0 -0.897719 -0.836125  \n",
       "\n",
       "[750 rows x 13 columns]"
      ]
     },
     "execution_count": 33,
     "metadata": {},
     "output_type": "execute_result"
    }
   ],
   "source": [
    "new_data = data[(data['z_score1']<3)&(data['z_score1']>-3)&(data['z_score2']<3)&(data['z_score2']>-3)]\n",
    "new_data"
   ]
  },
  {
   "cell_type": "code",
   "execution_count": 34,
   "metadata": {},
   "outputs": [
    {
     "data": {
      "text/html": [
       "<div>\n",
       "<style scoped>\n",
       "    .dataframe tbody tr th:only-of-type {\n",
       "        vertical-align: middle;\n",
       "    }\n",
       "\n",
       "    .dataframe tbody tr th {\n",
       "        vertical-align: top;\n",
       "    }\n",
       "\n",
       "    .dataframe thead th {\n",
       "        text-align: right;\n",
       "    }\n",
       "</style>\n",
       "<table border=\"1\" class=\"dataframe\">\n",
       "  <thead>\n",
       "    <tr style=\"text-align: right;\">\n",
       "      <th></th>\n",
       "      <th>Name</th>\n",
       "      <th>Roll No</th>\n",
       "      <th>Degree</th>\n",
       "      <th>Gender</th>\n",
       "      <th>Sem</th>\n",
       "      <th>CGPA</th>\n",
       "      <th>Age</th>\n",
       "      <th>Height</th>\n",
       "      <th>Weight</th>\n",
       "      <th>BMI</th>\n",
       "      <th>Gym/badminton</th>\n",
       "    </tr>\n",
       "  </thead>\n",
       "  <tbody>\n",
       "    <tr>\n",
       "      <th>0</th>\n",
       "      <td>YERIMAKU  BHAVYATARA</td>\n",
       "      <td>CS21B1026</td>\n",
       "      <td>B.Tech</td>\n",
       "      <td>0</td>\n",
       "      <td>5.0</td>\n",
       "      <td>10.0</td>\n",
       "      <td>21.0</td>\n",
       "      <td>164.0</td>\n",
       "      <td>68.0</td>\n",
       "      <td>25.28</td>\n",
       "      <td>0.0</td>\n",
       "    </tr>\n",
       "    <tr>\n",
       "      <th>1</th>\n",
       "      <td>H LAKSHITHA</td>\n",
       "      <td>CS22B1006</td>\n",
       "      <td>B.Tech</td>\n",
       "      <td>0</td>\n",
       "      <td>3.0</td>\n",
       "      <td>6.0</td>\n",
       "      <td>18.0</td>\n",
       "      <td>175.0</td>\n",
       "      <td>76.0</td>\n",
       "      <td>24.82</td>\n",
       "      <td>0.0</td>\n",
       "    </tr>\n",
       "    <tr>\n",
       "      <th>2</th>\n",
       "      <td>JANANI K.S</td>\n",
       "      <td>ME22B2041</td>\n",
       "      <td>B.Tech</td>\n",
       "      <td>0</td>\n",
       "      <td>3.0</td>\n",
       "      <td>10.0</td>\n",
       "      <td>20.0</td>\n",
       "      <td>177.0</td>\n",
       "      <td>78.0</td>\n",
       "      <td>24.90</td>\n",
       "      <td>0.0</td>\n",
       "    </tr>\n",
       "    <tr>\n",
       "      <th>3</th>\n",
       "      <td>PUNURI ABHISHEK</td>\n",
       "      <td>EC20B1040</td>\n",
       "      <td>B.Tech</td>\n",
       "      <td>3</td>\n",
       "      <td>7.0</td>\n",
       "      <td>6.0</td>\n",
       "      <td>22.0</td>\n",
       "      <td>168.0</td>\n",
       "      <td>70.0</td>\n",
       "      <td>24.80</td>\n",
       "      <td>0.0</td>\n",
       "    </tr>\n",
       "    <tr>\n",
       "      <th>4</th>\n",
       "      <td>BASAB GHOSH</td>\n",
       "      <td>CS21B1068</td>\n",
       "      <td>B.Tech</td>\n",
       "      <td>3</td>\n",
       "      <td>5.0</td>\n",
       "      <td>6.0</td>\n",
       "      <td>21.0</td>\n",
       "      <td>179.0</td>\n",
       "      <td>94.0</td>\n",
       "      <td>29.34</td>\n",
       "      <td>0.0</td>\n",
       "    </tr>\n",
       "    <tr>\n",
       "      <th>...</th>\n",
       "      <td>...</td>\n",
       "      <td>...</td>\n",
       "      <td>...</td>\n",
       "      <td>...</td>\n",
       "      <td>...</td>\n",
       "      <td>...</td>\n",
       "      <td>...</td>\n",
       "      <td>...</td>\n",
       "      <td>...</td>\n",
       "      <td>...</td>\n",
       "      <td>...</td>\n",
       "    </tr>\n",
       "    <tr>\n",
       "      <th>810</th>\n",
       "      <td>SURYA C S</td>\n",
       "      <td>ME21B1052</td>\n",
       "      <td>B.Tech</td>\n",
       "      <td>3</td>\n",
       "      <td>5.0</td>\n",
       "      <td>10.0</td>\n",
       "      <td>19.0</td>\n",
       "      <td>177.0</td>\n",
       "      <td>89.0</td>\n",
       "      <td>28.41</td>\n",
       "      <td>0.0</td>\n",
       "    </tr>\n",
       "    <tr>\n",
       "      <th>811</th>\n",
       "      <td>MANOJI M R</td>\n",
       "      <td>ME21B1027</td>\n",
       "      <td>B.Tech</td>\n",
       "      <td>3</td>\n",
       "      <td>5.0</td>\n",
       "      <td>6.0</td>\n",
       "      <td>19.0</td>\n",
       "      <td>158.0</td>\n",
       "      <td>65.0</td>\n",
       "      <td>26.04</td>\n",
       "      <td>1.0</td>\n",
       "    </tr>\n",
       "    <tr>\n",
       "      <th>812</th>\n",
       "      <td>PALLE JAIPAUL</td>\n",
       "      <td>CS22B2036</td>\n",
       "      <td>B.Tech</td>\n",
       "      <td>3</td>\n",
       "      <td>3.0</td>\n",
       "      <td>8.0</td>\n",
       "      <td>18.0</td>\n",
       "      <td>174.0</td>\n",
       "      <td>79.0</td>\n",
       "      <td>26.09</td>\n",
       "      <td>0.0</td>\n",
       "    </tr>\n",
       "    <tr>\n",
       "      <th>814</th>\n",
       "      <td>VIKESH KUMAR</td>\n",
       "      <td>EC21B1008</td>\n",
       "      <td>B.Tech</td>\n",
       "      <td>3</td>\n",
       "      <td>5.0</td>\n",
       "      <td>8.0</td>\n",
       "      <td>20.0</td>\n",
       "      <td>172.0</td>\n",
       "      <td>71.0</td>\n",
       "      <td>24.00</td>\n",
       "      <td>1.0</td>\n",
       "    </tr>\n",
       "    <tr>\n",
       "      <th>816</th>\n",
       "      <td>KANUGULA MONISHA</td>\n",
       "      <td>EC22B1005</td>\n",
       "      <td>B.Tech</td>\n",
       "      <td>0</td>\n",
       "      <td>3.0</td>\n",
       "      <td>8.0</td>\n",
       "      <td>19.0</td>\n",
       "      <td>165.0</td>\n",
       "      <td>64.0</td>\n",
       "      <td>23.51</td>\n",
       "      <td>1.0</td>\n",
       "    </tr>\n",
       "  </tbody>\n",
       "</table>\n",
       "<p>735 rows × 11 columns</p>\n",
       "</div>"
      ],
      "text/plain": [
       "                     Name    Roll No  Degree  Gender  Sem  CGPA   Age  Height  \\\n",
       "0    YERIMAKU  BHAVYATARA  CS21B1026  B.Tech       0  5.0  10.0  21.0   164.0   \n",
       "1             H LAKSHITHA  CS22B1006  B.Tech       0  3.0   6.0  18.0   175.0   \n",
       "2              JANANI K.S  ME22B2041  B.Tech       0  3.0  10.0  20.0   177.0   \n",
       "3         PUNURI ABHISHEK  EC20B1040  B.Tech       3  7.0   6.0  22.0   168.0   \n",
       "4             BASAB GHOSH  CS21B1068  B.Tech       3  5.0   6.0  21.0   179.0   \n",
       "..                    ...        ...     ...     ...  ...   ...   ...     ...   \n",
       "810             SURYA C S  ME21B1052  B.Tech       3  5.0  10.0  19.0   177.0   \n",
       "811            MANOJI M R  ME21B1027  B.Tech       3  5.0   6.0  19.0   158.0   \n",
       "812         PALLE JAIPAUL  CS22B2036  B.Tech       3  3.0   8.0  18.0   174.0   \n",
       "814          VIKESH KUMAR  EC21B1008  B.Tech       3  5.0   8.0  20.0   172.0   \n",
       "816      KANUGULA MONISHA  EC22B1005  B.Tech       0  3.0   8.0  19.0   165.0   \n",
       "\n",
       "     Weight    BMI  Gym/badminton  \n",
       "0      68.0  25.28            0.0  \n",
       "1      76.0  24.82            0.0  \n",
       "2      78.0  24.90            0.0  \n",
       "3      70.0  24.80            0.0  \n",
       "4      94.0  29.34            0.0  \n",
       "..      ...    ...            ...  \n",
       "810    89.0  28.41            0.0  \n",
       "811    65.0  26.04            1.0  \n",
       "812    79.0  26.09            0.0  \n",
       "814    71.0  24.00            1.0  \n",
       "816    64.0  23.51            1.0  \n",
       "\n",
       "[735 rows x 11 columns]"
      ]
     },
     "execution_count": 34,
     "metadata": {},
     "output_type": "execute_result"
    }
   ],
   "source": [
    "new_df"
   ]
  },
  {
   "cell_type": "code",
   "execution_count": 40,
   "metadata": {},
   "outputs": [
    {
     "data": {
      "image/png": "[encoded data removed]",
      "text/plain": [
       "<Figure size 432x288 with 2 Axes>"
      ]
     },
     "metadata": {
      "needs_background": "light"
     },
     "output_type": "display_data"
    }
   ],
   "source": [
    "import seaborn as sns\n",
    "import matplotlib.pyplot as plt\n",
    "correlation_matrix = new_df.iloc[:, 3:10].corr()\n",
    "sns.heatmap(correlation_matrix, annot=True, cmap=\"coolwarm\")\n",
    "plt.title(\"Correlation Heatmap for Multiple Variables\")\n",
    "plt.show()"
   ]
  },
  {
   "cell_type": "code",
   "execution_count": 36,
   "metadata": {},
   "outputs": [
    {
     "data": {
      "text/html": [
       "<div>\n",
       "<style scoped>\n",
       "    .dataframe tbody tr th:only-of-type {\n",
       "        vertical-align: middle;\n",
       "    }\n",
       "\n",
       "    .dataframe tbody tr th {\n",
       "        vertical-align: top;\n",
       "    }\n",
       "\n",
       "    .dataframe thead th {\n",
       "        text-align: right;\n",
       "    }\n",
       "</style>\n",
       "<table border=\"1\" class=\"dataframe\">\n",
       "  <thead>\n",
       "    <tr style=\"text-align: right;\">\n",
       "      <th></th>\n",
       "      <th>Sem</th>\n",
       "      <th>CGPA</th>\n",
       "      <th>Age</th>\n",
       "      <th>Height</th>\n",
       "      <th>Weight</th>\n",
       "      <th>BMI</th>\n",
       "    </tr>\n",
       "  </thead>\n",
       "  <tbody>\n",
       "    <tr>\n",
       "      <th>Sem</th>\n",
       "      <td>1.000000</td>\n",
       "      <td>-0.061448</td>\n",
       "      <td>0.393863</td>\n",
       "      <td>0.010264</td>\n",
       "      <td>0.003988</td>\n",
       "      <td>0.029492</td>\n",
       "    </tr>\n",
       "    <tr>\n",
       "      <th>CGPA</th>\n",
       "      <td>-0.061448</td>\n",
       "      <td>1.000000</td>\n",
       "      <td>0.004061</td>\n",
       "      <td>-0.028544</td>\n",
       "      <td>0.021635</td>\n",
       "      <td>0.040389</td>\n",
       "    </tr>\n",
       "    <tr>\n",
       "      <th>Age</th>\n",
       "      <td>0.393863</td>\n",
       "      <td>0.004061</td>\n",
       "      <td>1.000000</td>\n",
       "      <td>-0.056493</td>\n",
       "      <td>-0.070629</td>\n",
       "      <td>-0.049917</td>\n",
       "    </tr>\n",
       "    <tr>\n",
       "      <th>Height</th>\n",
       "      <td>0.010264</td>\n",
       "      <td>-0.028544</td>\n",
       "      <td>-0.056493</td>\n",
       "      <td>1.000000</td>\n",
       "      <td>0.788101</td>\n",
       "      <td>0.458960</td>\n",
       "    </tr>\n",
       "    <tr>\n",
       "      <th>Weight</th>\n",
       "      <td>0.003988</td>\n",
       "      <td>0.021635</td>\n",
       "      <td>-0.070629</td>\n",
       "      <td>0.788101</td>\n",
       "      <td>1.000000</td>\n",
       "      <td>0.906238</td>\n",
       "    </tr>\n",
       "    <tr>\n",
       "      <th>BMI</th>\n",
       "      <td>0.029492</td>\n",
       "      <td>0.040389</td>\n",
       "      <td>-0.049917</td>\n",
       "      <td>0.458960</td>\n",
       "      <td>0.906238</td>\n",
       "      <td>1.000000</td>\n",
       "    </tr>\n",
       "  </tbody>\n",
       "</table>\n",
       "</div>"
      ],
      "text/plain": [
       "             Sem      CGPA       Age    Height    Weight       BMI\n",
       "Sem     1.000000 -0.061448  0.393863  0.010264  0.003988  0.029492\n",
       "CGPA   -0.061448  1.000000  0.004061 -0.028544  0.021635  0.040389\n",
       "Age     0.393863  0.004061  1.000000 -0.056493 -0.070629 -0.049917\n",
       "Height  0.010264 -0.028544 -0.056493  1.000000  0.788101  0.458960\n",
       "Weight  0.003988  0.021635 -0.070629  0.788101  1.000000  0.906238\n",
       "BMI     0.029492  0.040389 -0.049917  0.458960  0.906238  1.000000"
      ]
     },
     "execution_count": 36,
     "metadata": {},
     "output_type": "execute_result"
    }
   ],
   "source": [
    "\n",
    "correlation_matrix\n"
   ]
  },
  {
   "cell_type": "code",
   "execution_count": null,
   "metadata": {},
   "outputs": [],
   "source": []
  },
  {
   "cell_type": "code",
   "execution_count": 37,
   "metadata": {},
   "outputs": [
    {
     "data": {
      "text/plain": [
       "array([2.45839677e+00, 1.39529184e+00, 1.62931964e-03, 5.97629426e-01,\n",
       "       5.40481640e-01, 1.00657101e+00])"
      ]
     },
     "execution_count": 37,
     "metadata": {},
     "output_type": "execute_result"
    }
   ],
   "source": [
    "eigenvalues = np.linalg.eigvals(correlation_matrix)\n",
    "eigenvalues\n"
   ]
  },
  {
   "cell_type": "code",
   "execution_count": 38,
   "metadata": {},
   "outputs": [
    {
     "name": "stdout",
     "output_type": "stream",
     "text": [
      "[0.0016293196431359765, 0.5404816401409783, 0.5976294264242974, 1.0065710052849923, 1.3952918391847362, 2.4583967693218565]\n"
     ]
    }
   ],
   "source": [
    "print(sorted(eigenvalues))"
   ]
  },
  {
   "cell_type": "code",
   "execution_count": 39,
   "metadata": {},
   "outputs": [
    {
     "name": "stdout",
     "output_type": "stream",
     "text": [
      "-0.003022218441036204\n",
      "0.710970311167944\n",
      "0.015575627861151525\n",
      "0.6936060241597568\n",
      "0.11433712757500557\n",
      "-0.010353123073483125\n",
      "\n",
      "0.014705518586863213\n",
      "-0.09954482652121689\n",
      "-0.0045751244491742254\n",
      "0.09684354882523988\n",
      "0.12149978322960026\n",
      "0.9827068602580936\n",
      "\n",
      "-0.07109773547176575\n",
      "0.6939456262960697\n",
      "0.0011471874156431985\n",
      "-0.6951574741875843\n",
      "-0.08644026155782208\n",
      "0.15055706884543346\n",
      "\n",
      "0.5231769199163498\n",
      "0.025396649200877097\n",
      "-0.3619426813677437\n",
      "-0.14107231832132314\n",
      "0.753201761097869\n",
      "-0.08616335742676777\n",
      "\n",
      "0.6359780684648998\n",
      "0.025056796681079185\n",
      "0.7667968429891822\n",
      "-0.027111584778861463\n",
      "-0.07817860543792932\n",
      "0.008928749975261873\n",
      "\n",
      "0.5626166837448648\n",
      "0.04217438849140308\n",
      "-0.5298634248560568\n",
      "0.07517751895076084\n",
      "-0.6255142826872314\n",
      "0.06331478441724832\n",
      "\n"
     ]
    }
   ],
   "source": [
    "eigenvalues, eigenvectors = np.linalg.eig(correlation_matrix)\n",
    "for i in range(len(eigenvectors)):\n",
    "    for j in range(len(eigenvalues)):\n",
    "        print(float(eigenvectors[i][j]))\n",
    "    print(\"\")"
   ]
  },
  {
   "cell_type": "code",
   "execution_count": null,
   "metadata": {},
   "outputs": [],
   "source": []
  }
 ],
 "metadata": {
  "kernelspec": {
   "display_name": "Python 3 (ipykernel)",
   "language": "python",
   "name": "python3"
  },
  "language_info": {
   "codemirror_mode": {
    "name": "ipython",
    "version": 3
   },
   "file_extension": ".py",
   "mimetype": "text/x-python",
   "name": "python",
   "nbconvert_exporter": "python",
   "pygments_lexer": "ipython3",
   "version": "3.9.12"
  }
 },
 "nbformat": 4,
 "nbformat_minor": 2
}
