{
 "cells": [
  {
   "cell_type": "code",
   "execution_count": 20,
   "id": "25b5188a",
   "metadata": {},
   "outputs": [],
   "source": [
    "import pandas as pd\n"
   ]
  },
  {
   "cell_type": "code",
   "execution_count": 21,
   "id": "fa408a24",
   "metadata": {},
   "outputs": [],
   "source": [
    "data = {\n",
    "    \"Name\": [\"Ram\",\"Sam\",\"Prabhu\"],\n",
    "    \"Adhaar Number\": [959389389173 ,959389389179 , 959389389159],\n",
    "    \"Contact_No\": [9840787333, 9840787343, 9840787353],\n",
    "    \"DOB\": [\"12-2-1990\", \"12-2-2000\", \"12-2-2010\"],\n",
    "    \"Address\": [\"No 23,Kandigai,Chennai 127\",\"No 73,Melakottaiyu,Chennai 127\",\"No 43 Anna Nagar,Chennai 102\"]\n",
    "}"
   ]
  },
  {
   "cell_type": "code",
   "execution_count": 22,
   "id": "94e4bcd5",
   "metadata": {},
   "outputs": [],
   "source": [
    "df = pd.DataFrame(data)\n",
    "df.to_csv(\"Aadhar_DB.csv\",index=False)"
   ]
  },
  {
   "cell_type": "code",
   "execution_count": 23,
   "id": "3980d1e8",
   "metadata": {},
   "outputs": [
    {
     "name": "stdout",
     "output_type": "stream",
     "text": [
      "     Name  Adhaar Number  Contact_No        DOB  \\\n",
      "0     Ram   959389389173  9840787333  12-2-1990   \n",
      "1     Sam   959389389179  9840787343  12-2-2000   \n",
      "2  Prabhu   959389389159  9840787353  12-2-2010   \n",
      "\n",
      "                          Address  \n",
      "0      No 23,Kandigai,Chennai 127  \n",
      "1  No 73,Melakottaiyu,Chennai 127  \n",
      "2    No 43 Anna Nagar,Chennai 102  \n"
     ]
    }
   ],
   "source": [
    "print(df)"
   ]
  },
  {
   "cell_type": "code",
   "execution_count": 24,
   "id": "89d19e89",
   "metadata": {},
   "outputs": [],
   "source": [
    "file1 = \"SBIAccountHolder.csv\"\n",
    "file2 = \"Aadhar_DB.csv\"\n",
    "\n",
    "df1 = pd.read_csv(file1)\n",
    "df2 = pd.read_csv(file2)\n",
    "\n",
    "merged_df = pd.merge(df1, df2, on='Name')\n",
    "\n",
    "merged_df.to_csv(\"merged_file.csv\", index=False)"
   ]
  },
  {
   "cell_type": "code",
   "execution_count": 25,
   "id": "b83490b1",
   "metadata": {},
   "outputs": [
    {
     "name": "stdout",
     "output_type": "stream",
     "text": [
      "     Name  Account Number Account Type     Adhaar_No  Balance  Adhaar Number  \\\n",
      "0     Ram      9893893891           SB  959389389173  8989839   959389389173   \n",
      "1     Sam      9893893898           CA  959389389179  7690990   959389389179   \n",
      "2  Prabhu      9893893871           SB  959389389159   989330   959389389159   \n",
      "\n",
      "   Contact_No        DOB                         Address  \n",
      "0  9840787333  12-2-1990      No 23,Kandigai,Chennai 127  \n",
      "1  9840787343  12-2-2000  No 73,Melakottaiyu,Chennai 127  \n",
      "2  9840787353  12-2-2010    No 43 Anna Nagar,Chennai 102  \n",
      "     Name  Account Number Account Type  Balance  Adhaar Number  Contact_No  \\\n",
      "0     Ram      9893893891           SB  8989839   959389389173  9840787333   \n",
      "1     Sam      9893893898           CA  7690990   959389389179  9840787343   \n",
      "2  Prabhu      9893893871           SB   989330   959389389159  9840787353   \n",
      "\n",
      "         DOB                         Address  \n",
      "0  12-2-1990      No 23,Kandigai,Chennai 127  \n",
      "1  12-2-2000  No 73,Melakottaiyu,Chennai 127  \n",
      "2  12-2-2010    No 43 Anna Nagar,Chennai 102  \n"
     ]
    }
   ],
   "source": [
    "df3=pd.read_csv(\"merged_file.csv\")\n",
    "print(df3)\n",
    "df3.drop(columns=['Adhaar_No'], inplace=True)\n",
    "df3.to_csv(\"merged_file.csv\",index=False)\n",
    "print(df3)"
   ]
  },
  {
   "cell_type": "code",
   "execution_count": null,
   "id": "cb739295",
   "metadata": {},
   "outputs": [],
   "source": []
  },
  {
   "cell_type": "code",
   "execution_count": null,
   "id": "80b0a652",
   "metadata": {},
   "outputs": [],
   "source": []
  }
 ],
 "metadata": {
  "kernelspec": {
   "display_name": "Python 3 (ipykernel)",
   "language": "python",
   "name": "python3"
  },
  "language_info": {
   "codemirror_mode": {
    "name": "ipython",
    "version": 3
   },
   "file_extension": ".py",
   "mimetype": "text/x-python",
   "name": "python",
   "nbconvert_exporter": "python",
   "pygments_lexer": "ipython3",
   "version": "3.9.12"
  }
 },
 "nbformat": 4,
 "nbformat_minor": 5
}
