{
 "cells": [
  {
   "cell_type": "code",
   "execution_count": 22,
   "id": "8dd28b96",
   "metadata": {},
   "outputs": [
    {
     "name": "stdout",
     "output_type": "stream",
     "text": [
      "    rno  cgpa  feedback\n",
      "0     4  9.20         9\n",
      "1    14  7.50         7\n",
      "2    17  9.40        10\n",
      "3     8  8.70         6\n",
      "4    12  6.70         8\n",
      "5    13  8.00         8\n",
      "6    15  5.90         9\n",
      "7    18  9.40         9\n",
      "8    22  5.80        10\n",
      "9    23  8.11        10\n",
      "10   24  9.13         8\n",
      "11   25  8.00         9\n"
     ]
    }
   ],
   "source": [
    "import pandas as pd\n",
    "\n",
    "df = pd.DataFrame({'rno': [4, 14, 17, 8, 12, 13, 15, 18, 22, 23, 24, 25],\n",
    "                   'cgpa': [9.2, 7.5, 9.4, 8.7, 6.7, 8.0, 5.9, 9.4, 5.8, 8.11, 9.13, 8.0],\n",
    "                   'feedback': [9, 7, 10, 6, 8, 8, 9, 9, 10, 10, 8, 9]})\n",
    "df.to_csv('cg.csv')\n",
    "print(df)\n"
   ]
  },
  {
   "cell_type": "code",
   "execution_count": 15,
   "id": "246b4ec6",
   "metadata": {},
   "outputs": [
    {
     "name": "stdout",
     "output_type": "stream",
     "text": [
      "    rno  cgpa  feedback                     cgpa_bin\n",
      "0     4  9.20         9                 (8.843, 9.4]\n",
      "1    14  7.50         7  (5.7989999999999995, 7.833]\n",
      "2    17  9.40        10                 (8.843, 9.4]\n",
      "3     8  8.70         6               (7.833, 8.843]\n",
      "4    12  6.70         8  (5.7989999999999995, 7.833]\n",
      "5    13  8.00         8               (7.833, 8.843]\n",
      "6    15  5.90         9  (5.7989999999999995, 7.833]\n",
      "7    18  9.40         9                 (8.843, 9.4]\n",
      "8    22  5.80        10  (5.7989999999999995, 7.833]\n",
      "9    23  8.11        10               (7.833, 8.843]\n",
      "10   24  9.13         8                 (8.843, 9.4]\n",
      "11   25  8.00         9               (7.833, 8.843]\n"
     ]
    }
   ],
   "source": [
    "\n",
    "df['cgpa_bin'] = pd.qcut(df['cgpa'], q=3)\n",
    "print(df)\n"
   ]
  },
  {
   "cell_type": "code",
   "execution_count": 39,
   "id": "d77e348e",
   "metadata": {},
   "outputs": [
    {
     "name": "stdout",
     "output_type": "stream",
     "text": [
      "    rno  cgpa  feedback                    cgpa_bin\n",
      "0     4  9.20         9                (9.186, 9.4]\n",
      "1    14  7.50         7                 (6.86, 8.0]\n",
      "2    17  9.40        10                (9.186, 9.4]\n",
      "3     8  8.70         6              (8.464, 9.186]\n",
      "4    12  6.70         8  (5.7989999999999995, 6.86]\n",
      "5    13  8.00         8                 (6.86, 8.0]\n",
      "6    15  5.90         9  (5.7989999999999995, 6.86]\n",
      "7    18  9.40         9                (9.186, 9.4]\n",
      "8    22  5.80        10  (5.7989999999999995, 6.86]\n",
      "9    23  8.11        10                (8.0, 8.464]\n",
      "10   24  9.13         8              (8.464, 9.186]\n",
      "11   25  8.00         9                 (6.86, 8.0]\n",
      "    rno  cgpa  feedback cgpa_bin\n",
      "0     4  9.20         9        A\n",
      "1    14  7.50         7        D\n",
      "2    17  9.40        10        A\n",
      "3     8  8.70         6        B\n",
      "4    12  6.70         8        E\n",
      "5    13  8.00         8        D\n",
      "6    15  5.90         9        E\n",
      "7    18  9.40         9        A\n",
      "8    22  5.80        10        E\n",
      "9    23  8.11        10        C\n",
      "10   24  9.13         8        B\n",
      "11   25  8.00         9        D\n"
     ]
    }
   ],
   "source": [
    "df['cgpa_bin'] = pd.qcut(df['cgpa'],\n",
    "                           q=[0, .2, .4, .6, .8, 1])\n",
    "print(df)\n",
    "\n",
    "df['cgpa_bin'] = pd.qcut(df['cgpa'],\n",
    "                           q=[0, .2, .4, .6, .8,1],\n",
    "                           labels=['E', 'D', 'C', 'B', 'A'])\n",
    "print(df)\n"
   ]
  },
  {
   "cell_type": "code",
   "execution_count": 23,
   "id": "51f7d13c",
   "metadata": {},
   "outputs": [],
   "source": [
    "import numpy as np\n",
    "import matplotlib.pyplot as plt\n",
    "import pandas as pd"
   ]
  },
  {
   "cell_type": "code",
   "execution_count": 29,
   "id": "d0668370",
   "metadata": {},
   "outputs": [
    {
     "name": "stdout",
     "output_type": "stream",
     "text": [
      "    Unnamed: 0  rno  cgpa  feedback\n",
      "0            0    4  9.20         9\n",
      "1            1   14  7.50         7\n",
      "2            2   17  9.40        10\n",
      "3            3    8  8.70         6\n",
      "4            4   12  6.70         8\n",
      "5            5   13  8.00         8\n",
      "6            6   15  5.90         9\n",
      "7            7   18  9.40         9\n",
      "8            8   22  5.80        10\n",
      "9            9   23  8.11        10\n",
      "10          10   24  9.13         8\n",
      "11          11   25  8.00         9\n"
     ]
    }
   ],
   "source": [
    "dataset = pd.read_csv('cg.csv')\n",
    "X = dataset.iloc[:, :].values\n",
    "print(dataset)"
   ]
  },
  {
   "cell_type": "code",
   "execution_count": 30,
   "id": "d15673ac",
   "metadata": {},
   "outputs": [
    {
     "name": "stderr",
     "output_type": "stream",
     "text": [
      "C:\\Users\\kulad\\anaconda3\\lib\\site-packages\\sklearn\\cluster\\_kmeans.py:1416: FutureWarning: The default value of `n_init` will change from 10 to 'auto' in 1.4. Set the value of `n_init` explicitly to suppress the warning\n",
      "  super()._check_params_vs_input(X, default_n_init=10)\n",
      "C:\\Users\\kulad\\anaconda3\\lib\\site-packages\\sklearn\\cluster\\_kmeans.py:1440: UserWarning: KMeans is known to have a memory leak on Windows with MKL, when there are less chunks than available threads. You can avoid it by setting the environment variable OMP_NUM_THREADS=1.\n",
      "  warnings.warn(\n"
     ]
    }
   ],
   "source": [
    "from sklearn.cluster import KMeans\n",
    "kmeans = KMeans(n_clusters = 5, init = 'k-means++', random_state = 42)\n",
    "y_kmeans = kmeans.fit_predict(X)"
   ]
  },
  {
   "cell_type": "code",
   "execution_count": 31,
   "id": "3dcc4616",
   "metadata": {},
   "outputs": [
    {
     "name": "stdout",
     "output_type": "stream",
     "text": [
      "[2 0 3 4 0 0 0 3 1 1 1 1]\n"
     ]
    }
   ],
   "source": [
    "print(y_kmeans)"
   ]
  },
  {
   "cell_type": "code",
   "execution_count": 36,
   "id": "54d1054c",
   "metadata": {},
   "outputs": [
    {
     "name": "stdout",
     "output_type": "stream",
     "text": [
      "    Unnamed: 0  rno  cgpa  feedback  cat cg\n",
      "0            0    4  9.20         9    2  A\n",
      "1            1   14  7.50         7    0  D\n",
      "2            2   17  9.40        10    3  A\n",
      "3            3    8  8.70         6    4  B\n",
      "4            4   12  6.70         8    0  E\n",
      "5            5   13  8.00         8    0  D\n",
      "6            6   15  5.90         9    0  E\n",
      "7            7   18  9.40         9    3  A\n",
      "8            8   22  5.80        10    1  E\n",
      "9            9   23  8.11        10    1  C\n",
      "10          10   24  9.13         8    1  B\n",
      "11          11   25  8.00         9    1  D\n"
     ]
    }
   ],
   "source": [
    "dataset['cat']=y_kmeans\n",
    "dataset['cg']=['A','D','A','B','E','D','E','A','E','C','B','D']\n",
    "print(dataset)\n",
    "    "
   ]
  },
  {
   "cell_type": "code",
   "execution_count": 47,
   "id": "24c6c077",
   "metadata": {},
   "outputs": [
    {
     "name": "stdout",
     "output_type": "stream",
     "text": [
      "      name  cgpa cg\n",
      "0    Alice   9.0  A\n",
      "1      Bob   8.0  B\n",
      "2  Charlie   7.7  B\n",
      "3    David   9.8  S\n",
      "4      Eve   7.2  B\n",
      "5      kul   6.9  C\n",
      "6     deep   6.0  D\n",
      "7       gu   5.9  D\n"
     ]
    }
   ],
   "source": [
    "import pandas as pd\n",
    "\n",
    "# Create a sample DataFrame with 'name' and 'cgpa' columns\n",
    "data = {'name': ['Alice', 'Bob', 'Charlie', 'David', 'Eve','kul','deep','gu'],\n",
    "        'cgpa': [9, 8, 7.7, 9.8, 7.2,6.9,6,5.9]}\n",
    "\n",
    "df = pd.DataFrame(data)\n",
    "\n",
    "# Define the bins and labels for the cut\n",
    "bins = [0, 5, 6, 7, 8, 9, 10]\n",
    "labels = ['E', 'D', 'C', 'B', 'A', 'S']\n",
    "\n",
    "# Use pd.cut to create the 'cg' column\n",
    "df['cg'] = pd.cut(df['cgpa'], bins=bins, labels=labels)\n",
    "\n",
    "# Print the resulting DataFrame\n",
    "print(df)\n"
   ]
  },
  {
   "cell_type": "code",
   "execution_count": 48,
   "id": "c885de45",
   "metadata": {},
   "outputs": [
    {
     "name": "stdout",
     "output_type": "stream",
     "text": [
      "   A           B\n",
      "0  1       apple\n",
      "1  2      banana\n",
      "3  3      cherry\n",
      "4  4        date\n",
      "6  5  elderberry\n"
     ]
    }
   ],
   "source": [
    "import pandas as pd\n",
    "\n",
    "# Create a sample DataFrame with duplicates\n",
    "data = {'A': [1, 2, 2, 3, 4, 4, 5],\n",
    "        'B': ['apple', 'banana', 'banana', 'cherry', 'date', 'date', 'elderberry']}\n",
    "df = pd.DataFrame(data)\n",
    "\n",
    "# Remove duplicates based on all columns\n",
    "df_no_duplicates = df.drop_duplicates()\n",
    "\n",
    "# Print the DataFrame without duplicates\n",
    "print(df_no_duplicates)\n"
   ]
  },
  {
   "cell_type": "code",
   "execution_count": 62,
   "id": "d76139e1",
   "metadata": {},
   "outputs": [
    {
     "data": {
      "image/png": "[encoded data removed]",
      "text/plain": [
       "<Figure size 432x288 with 1 Axes>"
      ]
     },
     "metadata": {
      "needs_background": "light"
     },
     "output_type": "display_data"
    }
   ],
   "source": [
    "import pandas as pd\n",
    "import matplotlib.pyplot as plt\n",
    "import numpy as np\n",
    "df=pd.read_csv('Dataset_Final3.csv')\n",
    "plt.hist(df.Height,bins=20,rwidth=0.8)\n",
    "plt.xlabel('Height')\n",
    "plt.ylabel('Count')\n",
    "plt.show()"
   ]
  },
  {
   "cell_type": "code",
   "execution_count": 63,
   "id": "61bb25b0",
   "metadata": {},
   "outputs": [
    {
     "data": {
      "text/plain": [
       "count    807.000000\n",
       "mean     171.000000\n",
       "std        6.914939\n",
       "min      100.000000\n",
       "25%      168.000000\n",
       "50%      171.000000\n",
       "75%      174.000000\n",
       "max      190.000000\n",
       "Name: Height, dtype: float64"
      ]
     },
     "execution_count": 63,
     "metadata": {},
     "output_type": "execute_result"
    }
   ],
   "source": [
    "df.Height.describe()"
   ]
  },
  {
   "cell_type": "code",
   "execution_count": 64,
   "id": "0581af2b",
   "metadata": {},
   "outputs": [
    {
     "data": {
      "text/plain": [
       "191.74481608838562"
      ]
     },
     "execution_count": 64,
     "metadata": {},
     "output_type": "execute_result"
    }
   ],
   "source": [
    "upper_limit=df.Height.mean()+3*df.Height.std()\n",
    "upper_limit"
   ]
  },
  {
   "cell_type": "code",
   "execution_count": 65,
   "id": "9a271352",
   "metadata": {},
   "outputs": [
    {
     "data": {
      "text/plain": [
       "150.25518391161438"
      ]
     },
     "execution_count": 65,
     "metadata": {},
     "output_type": "execute_result"
    }
   ],
   "source": [
    "lower_limit=df.Height.mean()-3*df.Height.std()\n",
    "lower_limit"
   ]
  },
  {
   "cell_type": "code",
   "execution_count": 66,
   "id": "137084f6",
   "metadata": {},
   "outputs": [
    {
     "data": {
      "text/html": [
       "<div>\n",
       "<style scoped>\n",
       "    .dataframe tbody tr th:only-of-type {\n",
       "        vertical-align: middle;\n",
       "    }\n",
       "\n",
       "    .dataframe tbody tr th {\n",
       "        vertical-align: top;\n",
       "    }\n",
       "\n",
       "    .dataframe thead th {\n",
       "        text-align: right;\n",
       "    }\n",
       "</style>\n",
       "<table border=\"1\" class=\"dataframe\">\n",
       "  <thead>\n",
       "    <tr style=\"text-align: right;\">\n",
       "      <th></th>\n",
       "      <th>Name</th>\n",
       "      <th>Roll No</th>\n",
       "      <th>Degree</th>\n",
       "      <th>Gender</th>\n",
       "      <th>Sem</th>\n",
       "      <th>CGPA</th>\n",
       "      <th>Age</th>\n",
       "      <th>Height</th>\n",
       "      <th>Weight</th>\n",
       "      <th>BMI</th>\n",
       "      <th>Gym/badminton</th>\n",
       "    </tr>\n",
       "  </thead>\n",
       "  <tbody>\n",
       "    <tr>\n",
       "      <th>246</th>\n",
       "      <td>KANCHARLA BABA CHARAN</td>\n",
       "      <td>EC21B1200</td>\n",
       "      <td>B.Tech</td>\n",
       "      <td>Male</td>\n",
       "      <td>5.0</td>\n",
       "      <td>8.72</td>\n",
       "      <td>21.0</td>\n",
       "      <td>110.0</td>\n",
       "      <td>28.0</td>\n",
       "      <td>23.14</td>\n",
       "      <td>1.0</td>\n",
       "    </tr>\n",
       "    <tr>\n",
       "      <th>347</th>\n",
       "      <td>GEDUPUDI BHARGHAV RAM</td>\n",
       "      <td>CS21B1090</td>\n",
       "      <td>B.Tech</td>\n",
       "      <td>Male</td>\n",
       "      <td>5.0</td>\n",
       "      <td>8.56</td>\n",
       "      <td>20.0</td>\n",
       "      <td>100.0</td>\n",
       "      <td>30.0</td>\n",
       "      <td>30.00</td>\n",
       "      <td>0.0</td>\n",
       "    </tr>\n",
       "    <tr>\n",
       "      <th>402</th>\n",
       "      <td>VARIKUTI NARENDRA REDDY</td>\n",
       "      <td>ME20B1234</td>\n",
       "      <td>B.Tech</td>\n",
       "      <td>Male</td>\n",
       "      <td>7.0</td>\n",
       "      <td>8.34</td>\n",
       "      <td>22.0</td>\n",
       "      <td>107.0</td>\n",
       "      <td>29.0</td>\n",
       "      <td>25.43</td>\n",
       "      <td>1.0</td>\n",
       "    </tr>\n",
       "  </tbody>\n",
       "</table>\n",
       "</div>"
      ],
      "text/plain": [
       "                        Name    Roll No  Degree Gender  Sem  CGPA   Age  \\\n",
       "246    KANCHARLA BABA CHARAN  EC21B1200  B.Tech   Male  5.0  8.72  21.0   \n",
       "347    GEDUPUDI BHARGHAV RAM  CS21B1090  B.Tech   Male  5.0  8.56  20.0   \n",
       "402  VARIKUTI NARENDRA REDDY  ME20B1234  B.Tech   Male  7.0  8.34  22.0   \n",
       "\n",
       "     Height  Weight    BMI  Gym/badminton  \n",
       "246   110.0    28.0  23.14            1.0  \n",
       "347   100.0    30.0  30.00            0.0  \n",
       "402   107.0    29.0  25.43            1.0  "
      ]
     },
     "execution_count": 66,
     "metadata": {},
     "output_type": "execute_result"
    }
   ],
   "source": [
    "\n",
    "df[(df.Height>upper_limit) | (df.Height<lower_limit)]"
   ]
  },
  {
   "cell_type": "code",
   "execution_count": 70,
   "id": "59eae4dc",
   "metadata": {},
   "outputs": [
    {
     "data": {
      "text/html": [
       "<div>\n",
       "<style scoped>\n",
       "    .dataframe tbody tr th:only-of-type {\n",
       "        vertical-align: middle;\n",
       "    }\n",
       "\n",
       "    .dataframe tbody tr th {\n",
       "        vertical-align: top;\n",
       "    }\n",
       "\n",
       "    .dataframe thead th {\n",
       "        text-align: right;\n",
       "    }\n",
       "</style>\n",
       "<table border=\"1\" class=\"dataframe\">\n",
       "  <thead>\n",
       "    <tr style=\"text-align: right;\">\n",
       "      <th></th>\n",
       "      <th>Name</th>\n",
       "      <th>Roll No</th>\n",
       "      <th>Degree</th>\n",
       "      <th>Gender</th>\n",
       "      <th>Sem</th>\n",
       "      <th>CGPA</th>\n",
       "      <th>Age</th>\n",
       "      <th>Height</th>\n",
       "      <th>Weight</th>\n",
       "      <th>BMI</th>\n",
       "      <th>Gym/badminton</th>\n",
       "    </tr>\n",
       "  </thead>\n",
       "  <tbody>\n",
       "  </tbody>\n",
       "</table>\n",
       "</div>"
      ],
      "text/plain": [
       "Empty DataFrame\n",
       "Columns: [Name, Roll No, Degree, Gender, Sem, CGPA, Age, Height, Weight, BMI, Gym/badminton]\n",
       "Index: []"
      ]
     },
     "execution_count": 70,
     "metadata": {},
     "output_type": "execute_result"
    }
   ],
   "source": [
    "data = df\n",
    "data['z_score1'] = (data.Height - data.Height.mean())/df.Height.std()\n",
    "data['z_score2'] = (data.Afternoon - data.Weight.mean())/df.Weight.std()\n",
    "df=pd.read_csv('Dataset_Final.csv')\n",
    "upper_limit=df.Weight.mean()+3*df.Weight.std()\n",
    "\n",
    "lower_limit=df.Weight.mean()-3*df.Weight.std()\n",
    "\n",
    "df[(df.Weight>upper_limit) | (df.Weight<lower_limit)]"
   ]
  },
  {
   "cell_type": "code",
   "execution_count": null,
   "id": "18d96131",
   "metadata": {},
   "outputs": [],
   "source": []
  },
  {
   "cell_type": "code",
   "execution_count": 76,
   "id": "23ff6d8b",
   "metadata": {},
   "outputs": [
    {
     "data": {
      "text/html": [
       "<div>\n",
       "<style scoped>\n",
       "    .dataframe tbody tr th:only-of-type {\n",
       "        vertical-align: middle;\n",
       "    }\n",
       "\n",
       "    .dataframe tbody tr th {\n",
       "        vertical-align: top;\n",
       "    }\n",
       "\n",
       "    .dataframe thead th {\n",
       "        text-align: right;\n",
       "    }\n",
       "</style>\n",
       "<table border=\"1\" class=\"dataframe\">\n",
       "  <thead>\n",
       "    <tr style=\"text-align: right;\">\n",
       "      <th></th>\n",
       "      <th>Name</th>\n",
       "      <th>Roll No</th>\n",
       "      <th>Degree</th>\n",
       "      <th>Gender</th>\n",
       "      <th>Sem</th>\n",
       "      <th>CGPA</th>\n",
       "      <th>Age</th>\n",
       "      <th>Height</th>\n",
       "      <th>Weight</th>\n",
       "      <th>BMI</th>\n",
       "      <th>Gym/badminton</th>\n",
       "      <th>z_score1</th>\n",
       "      <th>z_score2</th>\n",
       "    </tr>\n",
       "  </thead>\n",
       "  <tbody>\n",
       "    <tr>\n",
       "      <th>246</th>\n",
       "      <td>KANCHARLA BABA CHARAN</td>\n",
       "      <td>EC21B1200</td>\n",
       "      <td>B.Tech</td>\n",
       "      <td>Male</td>\n",
       "      <td>5.0</td>\n",
       "      <td>8.72</td>\n",
       "      <td>21.0</td>\n",
       "      <td>110.0</td>\n",
       "      <td>28.0</td>\n",
       "      <td>23.14</td>\n",
       "      <td>1.0</td>\n",
       "      <td>-8.821481</td>\n",
       "      <td>-3.988565</td>\n",
       "    </tr>\n",
       "    <tr>\n",
       "      <th>347</th>\n",
       "      <td>GEDUPUDI BHARGHAV RAM</td>\n",
       "      <td>CS21B1090</td>\n",
       "      <td>B.Tech</td>\n",
       "      <td>Male</td>\n",
       "      <td>5.0</td>\n",
       "      <td>8.56</td>\n",
       "      <td>20.0</td>\n",
       "      <td>100.0</td>\n",
       "      <td>30.0</td>\n",
       "      <td>30.00</td>\n",
       "      <td>0.0</td>\n",
       "      <td>-10.267625</td>\n",
       "      <td>-3.813547</td>\n",
       "    </tr>\n",
       "    <tr>\n",
       "      <th>402</th>\n",
       "      <td>VARIKUTI NARENDRA REDDY</td>\n",
       "      <td>ME20B1234</td>\n",
       "      <td>B.Tech</td>\n",
       "      <td>Male</td>\n",
       "      <td>7.0</td>\n",
       "      <td>8.34</td>\n",
       "      <td>22.0</td>\n",
       "      <td>107.0</td>\n",
       "      <td>29.0</td>\n",
       "      <td>25.43</td>\n",
       "      <td>1.0</td>\n",
       "      <td>-9.255324</td>\n",
       "      <td>-3.901056</td>\n",
       "    </tr>\n",
       "  </tbody>\n",
       "</table>\n",
       "</div>"
      ],
      "text/plain": [
       "                        Name    Roll No  Degree Gender  Sem  CGPA   Age  \\\n",
       "246    KANCHARLA BABA CHARAN  EC21B1200  B.Tech   Male  5.0  8.72  21.0   \n",
       "347    GEDUPUDI BHARGHAV RAM  CS21B1090  B.Tech   Male  5.0  8.56  20.0   \n",
       "402  VARIKUTI NARENDRA REDDY  ME20B1234  B.Tech   Male  7.0  8.34  22.0   \n",
       "\n",
       "     Height  Weight    BMI  Gym/badminton   z_score1  z_score2  \n",
       "246   110.0    28.0  23.14            1.0  -8.821481 -3.988565  \n",
       "347   100.0    30.0  30.00            0.0 -10.267625 -3.813547  \n",
       "402   107.0    29.0  25.43            1.0  -9.255324 -3.901056  "
      ]
     },
     "execution_count": 76,
     "metadata": {},
     "output_type": "execute_result"
    }
   ],
   "source": [
    "df=pd.read_csv('Dataset_Final3.csv')\n",
    "data = df\n",
    "data['z_score1'] = (data.Height - data.Height.mean())/df.Height.std()\n",
    "data['z_score2'] = (data.Weight - data.Weight.mean())/df.Weight.std()\n",
    "outliers = data[(data['z_score1']>3)|(data['z_score1']<-3)]\n",
    "outliers"
   ]
  },
  {
   "cell_type": "code",
   "execution_count": null,
   "id": "7b06709d",
   "metadata": {},
   "outputs": [],
   "source": []
  }
 ],
 "metadata": {
  "kernelspec": {
   "display_name": "Python 3 (ipykernel)",
   "language": "python",
   "name": "python3"
  },
  "language_info": {
   "codemirror_mode": {
    "name": "ipython",
    "version": 3
   },
   "file_extension": ".py",
   "mimetype": "text/x-python",
   "name": "python",
   "nbconvert_exporter": "python",
   "pygments_lexer": "ipython3",
   "version": "3.9.12"
  }
 },
 "nbformat": 4,
 "nbformat_minor": 5
}
