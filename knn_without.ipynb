{
 "cells": [
  {
   "cell_type": "code",
   "execution_count": 2,
   "id": "b3c05859",
   "metadata": {},
   "outputs": [],
   "source": [
    "import numpy as np\n",
    "import pandas as pd\n",
    "from collections import Counter"
   ]
  },
  {
   "cell_type": "code",
   "execution_count": 3,
   "id": "68695882",
   "metadata": {},
   "outputs": [],
   "source": [
    "X=pd.DataFrame()\n",
    "y=pd.DataFrame()\n",
    "dataset = pd.read_csv('diabetes.csv')\n",
    "X = dataset.iloc[:, :-2]\n",
    "y = dataset.iloc[:, -2]"
   ]
  },
  {
   "cell_type": "code",
   "execution_count": null,
   "id": "921934d3",
   "metadata": {},
   "outputs": [],
   "source": [
    "\n"
   ]
  },
  {
   "cell_type": "code",
   "execution_count": 4,
   "id": "8335ad00",
   "metadata": {},
   "outputs": [],
   "source": [
    "X_train=X.iloc[:614,:]\n",
    "X_test=X.iloc[614:,:]\n",
    "y_train=y.iloc[:614]\n",
    "y_test=y.iloc[614:]\n",
    "\n"
   ]
  },
  {
   "cell_type": "code",
   "execution_count": 5,
   "id": "ec080e93",
   "metadata": {},
   "outputs": [],
   "source": [
    "def euclidian_distance(test_data,train_data,y):\n",
    "    distance=[]\n",
    "    for i in range(len(test_data)):\n",
    "        point1=np.array(test_data.iloc[i].values)\n",
    "        temp=[]\n",
    "        for j in range(len(train_data)):\n",
    "            point2=np.array(train_data.iloc[j].values)\n",
    "            temp.append([np.linalg.norm(point1-point2),i+1,y[j]])\n",
    "        distance.append(temp)\n",
    "    return distance"
   ]
  },
  {
   "cell_type": "code",
   "execution_count": 6,
   "id": "5bd12b3d",
   "metadata": {},
   "outputs": [],
   "source": [
    "distances=euclidian_distance(X_test,X_train,y_train)\n"
   ]
  },
  {
   "cell_type": "code",
   "execution_count": 7,
   "id": "43690072",
   "metadata": {},
   "outputs": [],
   "source": [
    "def minkdistances(distances,k,test_data):\n",
    "    temp1=[]\n",
    "    for i in range(len(test_data)):\n",
    "        lis1=sorted(distances[i],key=lambda x:x[0])\n",
    "        x=lis1[0:k]\n",
    "        temp1.append(x)\n",
    "    return temp1"
   ]
  },
  {
   "cell_type": "code",
   "execution_count": 8,
   "id": "35c54d60",
   "metadata": {},
   "outputs": [],
   "source": [
    "mindistances=minkdistances(distances,5,X_test)"
   ]
  },
  {
   "cell_type": "code",
   "execution_count": null,
   "id": "821b01f2",
   "metadata": {},
   "outputs": [],
   "source": []
  },
  {
   "cell_type": "code",
   "execution_count": 9,
   "id": "ac3d9008",
   "metadata": {},
   "outputs": [],
   "source": [
    "def category(mindistances,test_data,k):\n",
    "    test_data1=[]\n",
    "    for i in range(len(test_data)):\n",
    "        lis1=mindistances[i]\n",
    "        counter=Counter(sublist[2] for sublist in lis1)\n",
    "        most_common_value,occurence_count=counter.most_common(1)[0]\n",
    "        test_data1.append(most_common_value)\n",
    "    return test_data1\n",
    "        "
   ]
  },
  {
   "cell_type": "code",
   "execution_count": 10,
   "id": "abd78807",
   "metadata": {},
   "outputs": [],
   "source": [
    "test_data1=category(mindistances,X_test,5)\n"
   ]
  },
  {
   "cell_type": "code",
   "execution_count": 11,
   "id": "784c656f",
   "metadata": {},
   "outputs": [],
   "source": [
    "\n",
    "y1=np.array(y_test)\n"
   ]
  },
  {
   "cell_type": "code",
   "execution_count": 12,
   "id": "08980c44",
   "metadata": {},
   "outputs": [],
   "source": [
    "def accuracy(test_data1,test_data):\n",
    "    count=0;\n",
    "    for i in range(len(test_data1)):\n",
    "        if(test_data1[i]==test_data[i]):\n",
    "            count+=1\n",
    "    \n",
    "    return count/len(test_data1)\n",
    "    \n",
    "    \n",
    "    "
   ]
  },
  {
   "cell_type": "code",
   "execution_count": 13,
   "id": "cc1ec025",
   "metadata": {},
   "outputs": [
    {
     "name": "stdout",
     "output_type": "stream",
     "text": [
      "70.77922077922078\n"
     ]
    }
   ],
   "source": [
    "print(accuracy(test_data1,y1)*100)"
   ]
  },
  {
   "cell_type": "code",
   "execution_count": 14,
   "id": "4140662f",
   "metadata": {},
   "outputs": [
    {
     "name": "stdout",
     "output_type": "stream",
     "text": [
      "accuracy= 70.77922077922078\n"
     ]
    }
   ],
   "source": [
    "import numpy as np\n",
    "import pandas as pd\n",
    "from collections import Counter\n",
    "\n",
    "X=pd.DataFrame()\n",
    "y=pd.DataFrame()\n",
    "dataset = pd.read_csv('diabetes.csv')\n",
    "X = dataset.iloc[:, :-2]\n",
    "y = dataset.iloc[:, -2]\n",
    "\n",
    "X_train=X.iloc[:614,:]\n",
    "X_test=X.iloc[614:,:]\n",
    "y_train=y.iloc[:614]\n",
    "y_test=y.iloc[614:]\n",
    "\n",
    "def euclidian_distance(test_data,train_data,y):\n",
    "    distance=[]\n",
    "    for i in range(len(test_data)):\n",
    "        point1=np.array(test_data.iloc[i].values)\n",
    "        temp=[]\n",
    "        for j in range(len(train_data)):\n",
    "            point2=np.array(train_data.iloc[j].values)\n",
    "            temp.append([np.linalg.norm(point1-point2),i+1,y[j]])\n",
    "        distance.append(temp)\n",
    "    return distance\n",
    "\n",
    "\n",
    "distances=euclidian_distance(X_test,X_train,y_train)\n",
    "\n",
    "\n",
    "def minkdistances(distances,k,test_data):\n",
    "    temp1=[]\n",
    "    for i in range(len(test_data)):\n",
    "        lis1=sorted(distances[i],key=lambda x:x[0])\n",
    "        x=lis1[0:k]\n",
    "        temp1.append(x)\n",
    "    return temp1\n",
    "\n",
    "mindistances=minkdistances(distances,5,X_test)\n",
    "\n",
    "\n",
    "def category(mindistances,test_data,k):\n",
    "    test_data1=[]\n",
    "    for i in range(len(test_data)):\n",
    "        lis1=mindistances[i]\n",
    "        counter=Counter(sublist[2] for sublist in lis1)\n",
    "        most_common_value,occurence_count=counter.most_common(1)[0]\n",
    "        test_data1.append(most_common_value)\n",
    "    return test_data1\n",
    "        \n",
    "\n",
    "test_data1=category(mindistances,X_test,5)\n",
    "\n",
    "\n",
    "y1=np.array(y_test)\n",
    "\n",
    "def accuracy(test_data1,test_data):\n",
    "    count=0;\n",
    "    for i in range(len(test_data1)):\n",
    "        if(test_data1[i]==test_data[i]):\n",
    "            count+=1\n",
    "    \n",
    "    return count/len(test_data1)\n",
    "    \n",
    "    \n",
    "print('accuracy=',accuracy(test_data1,y1)*100)"
   ]
  },
  {
   "cell_type": "code",
   "execution_count": 15,
   "id": "715ce598",
   "metadata": {},
   "outputs": [
    {
     "name": "stdout",
     "output_type": "stream",
     "text": [
      "[1, 0, 0, 0, 0, 1, 0, 0, 1, 0, 0, 0, 0, 0, 1, 0, 0, 0, 0, 0, 0, 1, 1, 0, 0, 0, 0, 0, 0, 0, 0, 1, 1, 1, 0, 0, 0, 0, 0, 0, 0, 1, 0, 1, 0, 0, 1, 1, 1, 0, 0, 0, 0, 0, 0, 1, 1, 0, 0, 1, 0, 1, 1, 0, 0, 0, 0, 1, 0, 0, 0, 0, 1, 0, 0, 1, 1, 1, 0, 0, 0, 1, 1, 0, 0, 0, 0, 0, 1, 1, 0, 0, 0, 1, 1, 0, 0, 0, 0, 0, 1, 0, 1, 0, 0, 1, 0, 1, 0, 0, 0, 1, 1, 0, 1, 0, 0, 0, 1, 1, 0, 0, 0, 0, 0, 1, 1, 0, 0, 0, 1, 0, 1, 0, 1, 0, 1, 0, 0, 1, 1, 0, 0, 1, 0, 1, 0, 1, 0, 1, 0, 0, 1, 0]\n",
      "accuracy= 70.77922077922078\n"
     ]
    }
   ],
   "source": [
    "import numpy as np\n",
    "import pandas as pd\n",
    "from collections import Counter\n",
    "\n",
    "X=pd.DataFrame()\n",
    "y=pd.DataFrame()\n",
    "dataset = pd.read_csv('diabetes.csv')\n",
    "X = dataset.iloc[:, :-2]\n",
    "y = dataset.iloc[:, -2]\n",
    "\n",
    "X_train=X.iloc[:614,:]\n",
    "X_test=X.iloc[614:,:]\n",
    "y_train=y.iloc[:614]\n",
    "y_test=y.iloc[614:]\n",
    "\n",
    "def euclidian_distance(test_data,train_data,y):\n",
    "    distance=[]\n",
    "    for i in range(len(test_data)):\n",
    "        point1=np.array(test_data.iloc[i].values)\n",
    "        temp=[]\n",
    "        for j in range(len(train_data)):\n",
    "            point2=np.array(train_data.iloc[j].values)\n",
    "            temp.append([np.linalg.norm(point1-point2),i+1,y[j]])\n",
    "        distance.append(temp)\n",
    "    return distance\n",
    "\n",
    "\n",
    "distances=euclidian_distance(X_test,X_train,y_train)\n",
    "\n",
    "\n",
    "def minkdistances(distances,k,test_data):\n",
    "    temp1=[]\n",
    "    for i in range(len(test_data)):\n",
    "        lis1=sorted(distances[i],key=lambda x:x[0])\n",
    "        x=lis1[0:k]\n",
    "        temp1.append(x)\n",
    "    return temp1\n",
    "\n",
    "mindistances=minkdistances(distances,5,X_test)\n",
    "\n",
    "\n",
    "def category(mindistances,test_data,k):\n",
    "    test_data1=[]\n",
    "    for i in range(len(test_data)):\n",
    "        lis1=mindistances[i]\n",
    "        counter=Counter(sublist[2] for sublist in lis1)\n",
    "        most_common_value,occurence_count=counter.most_common(1)[0]\n",
    "        test_data1.append(most_common_value)\n",
    "    return test_data1\n",
    "        \n",
    "\n",
    "predicted_outcome=category(mindistances,X_test,5)\n",
    "print(predicted_outcome)\n",
    "\n",
    "\n",
    "y1=np.array(y_test)\n",
    "\n",
    "def accuracy(test_data1,test_data):\n",
    "    count=0\n",
    "    for i in range(len(test_data1)):\n",
    "        if(test_data1[i]==test_data[i]):\n",
    "            count+=1\n",
    "    \n",
    "    return count/len(test_data1)\n",
    "    \n",
    "    \n",
    "print('accuracy=',accuracy(predicted_outcome,y1)*100)"
   ]
  },
  {
   "cell_type": "code",
   "execution_count": 16,
   "id": "c01964c5",
   "metadata": {},
   "outputs": [
    {
     "name": "stdout",
     "output_type": "stream",
     "text": [
      "Accuracy Percentage (K-Means):  66.015625\n"
     ]
    }
   ],
   "source": [
    "np.random.seed(0)\n",
    "data = X.values\n",
    "count=0\n",
    "K = 2\n",
    "\n",
    "max_iters = 100\n",
    "\n",
    "centroids = data[np.random.choice(data.shape[0], K, replace=False)]\n",
    "\n",
    "for iter in range(max_iters):\n",
    "    distances = np.sqrt(((data[:, np.newaxis] - centroids) ** 2).sum(axis=2))\n",
    "    labels = np.argmin(distances, axis=1)\n",
    "    \n",
    "    new_centroids = np.array([data[labels == k].mean(axis=0) for k in range(K)])\n",
    "    \n",
    "    if np.all(centroids == new_centroids):\n",
    "        break\n",
    "    \n",
    "    centroids = new_centroids\n",
    "\n",
    "\n",
    "\n",
    "for i in range(y.shape[0]):\n",
    "    if y[i] == labels[i]:\n",
    "        count += 1\n",
    "\n",
    "print('Accuracy Percentage (K-Means): ', (count/y.shape[0])*100)"
   ]
  },
  {
   "cell_type": "code",
   "execution_count": 17,
   "id": "dbeeaf76",
   "metadata": {},
   "outputs": [
    {
     "name": "stdout",
     "output_type": "stream",
     "text": [
      "768\n"
     ]
    }
   ],
   "source": [
    "print(data.shape[0])"
   ]
  },
  {
   "cell_type": "code",
   "execution_count": null,
   "id": "78ed29ce",
   "metadata": {},
   "outputs": [],
   "source": []
  }
 ],
 "metadata": {
  "kernelspec": {
   "display_name": "Python 3 (ipykernel)",
   "language": "python",
   "name": "python3"
  },
  "language_info": {
   "codemirror_mode": {
    "name": "ipython",
    "version": 3
   },
   "file_extension": ".py",
   "mimetype": "text/x-python",
   "name": "python",
   "nbconvert_exporter": "python",
   "pygments_lexer": "ipython3",
   "version": "3.9.12"
  }
 },
 "nbformat": 4,
 "nbformat_minor": 5
}
