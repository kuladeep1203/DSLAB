{
 "cells": [
  {
   "cell_type": "code",
   "execution_count": 16,
   "id": "c2728a9a",
   "metadata": {},
   "outputs": [],
   "source": [
    "import numpy as np\n",
    "import pandas as pd\n",
    "import matplotlib.pyplot as plt"
   ]
  },
  {
   "cell_type": "code",
   "execution_count": 17,
   "id": "7deb7d1b",
   "metadata": {},
   "outputs": [
    {
     "name": "stdout",
     "output_type": "stream",
     "text": [
      "     Pregnancies  Glucose  BloodPressure  SkinThickness  Insulin   BMI  Age\n",
      "0              6      148             72             35        0  33.6   50\n",
      "1              1       85             66             29        0  26.6   31\n",
      "2              8      183             64              0        0  23.3   32\n",
      "3              1       89             66             23       94  28.1   21\n",
      "4              0      137             40             35      168  43.1   33\n",
      "..           ...      ...            ...            ...      ...   ...  ...\n",
      "763           10      101             76             48      180  32.9   63\n",
      "764            2      122             70             27        0  36.8   27\n",
      "765            5      121             72             23      112  26.2   30\n",
      "766            1      126             60              0        0  30.1   47\n",
      "767            1       93             70             31        0  30.4   23\n",
      "\n",
      "[768 rows x 7 columns]\n"
     ]
    }
   ],
   "source": [
    "df=pd.read_csv('diabetes.csv')\n",
    "X=df.iloc[:,:-2]\n",
    "y=df.iloc[:,-2]\n",
    "print(X)"
   ]
  },
  {
   "cell_type": "code",
   "execution_count": 18,
   "id": "94337175",
   "metadata": {},
   "outputs": [],
   "source": [
    "mean=X.mean()\n",
    "median=X.median()\n",
    "mode=X.mode()\n",
    "minimun=X.min()\n",
    "maximum=X.max()\n",
    "standard_deviation=X.std()\n"
   ]
  },
  {
   "cell_type": "code",
   "execution_count": 19,
   "id": "5b0b4981",
   "metadata": {},
   "outputs": [],
   "source": [
    "def correlation_coeff(x, y):\n",
    "    x_mean, y_mean = x.mean(), y.mean()\n",
    "    x_std, y_std = x.std(), y.std()\n",
    "    n = len(x)\n",
    "    return np.sum((x-x_mean)*(y-y_mean)) / (n*x_std*y_std)\n"
   ]
  },
  {
   "cell_type": "code",
   "execution_count": 28,
   "id": "80eafd9e",
   "metadata": {},
   "outputs": [],
   "source": [
    "age_correlations=[]\n",
    "for i in X.columns:\n",
    "    age_correlations.append(correlation_coeff(X['Age'],X[i]))\n",
    "\n",
    "\n",
    "bmi_correlations=[]\n",
    "for i in X.columns:\n",
    "    bmi_correlations.append(correlation_coeff(X['BMI'],X[i]))\n",
    "\n"
   ]
  },
  {
   "cell_type": "code",
   "execution_count": 29,
   "id": "3689d9de",
   "metadata": {},
   "outputs": [
    {
     "data": {
      "image/png": "[encoded data removed]",
      "text/plain": [
       "<Figure size 432x288 with 1 Axes>"
      ]
     },
     "metadata": {
      "needs_background": "light"
     },
     "output_type": "display_data"
    }
   ],
   "source": [
    "plt.bar(X.columns,age_correlations)\n",
    "plt.xlabel('Features')\n",
    "plt.ylabel('Correlation cofficients with age')\n",
    "plt.show()"
   ]
  },
  {
   "cell_type": "code",
   "execution_count": 30,
   "id": "d8ca369f",
   "metadata": {},
   "outputs": [
    {
     "data": {
      "image/png": "[encoded data removed]",
      "text/plain": [
       "<Figure size 432x288 with 1 Axes>"
      ]
     },
     "metadata": {
      "needs_background": "light"
     },
     "output_type": "display_data"
    }
   ],
   "source": [
    "plt.bar(X.columns,bmi_correlations)\n",
    "plt.xlabel('Features')\n",
    "plt.ylabel('Correlation cofficients with age')\n",
    "plt.show()"
   ]
  },
  {
   "cell_type": "code",
   "execution_count": null,
   "id": "e304d289",
   "metadata": {},
   "outputs": [],
   "source": []
  }
 ],
 "metadata": {
  "kernelspec": {
   "display_name": "Python 3 (ipykernel)",
   "language": "python",
   "name": "python3"
  },
  "language_info": {
   "codemirror_mode": {
    "name": "ipython",
    "version": 3
   },
   "file_extension": ".py",
   "mimetype": "text/x-python",
   "name": "python",
   "nbconvert_exporter": "python",
   "pygments_lexer": "ipython3",
   "version": "3.9.12"
  }
 },
 "nbformat": 4,
 "nbformat_minor": 5
}
